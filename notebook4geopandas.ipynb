{
 "cells": [
  {
   "cell_type": "code",
   "execution_count": 1,
   "metadata": {},
   "outputs": [
    {
     "name": "stdout",
     "output_type": "stream",
     "text": [
      "\n",
      "CommandNotFoundError: Your shell has not been properly configured to use 'conda activate'.\n",
      "To initialize your shell, run\n",
      "\n",
      "    $ conda init <SHELL_NAME>\n",
      "\n",
      "Currently supported shells are:\n",
      "  - bash\n",
      "  - fish\n",
      "  - tcsh\n",
      "  - xonsh\n",
      "  - zsh\n",
      "  - powershell\n",
      "\n",
      "See 'conda init --help' for more information and options.\n",
      "\n",
      "IMPORTANT: You may need to close and restart your shell after running 'conda init'.\n",
      "\n",
      "\n",
      "\n",
      "Note: you may need to restart the kernel to use updated packages.\n"
     ]
    }
   ],
   "source": [
    "conda activate TEST"
   ]
  },
  {
   "cell_type": "code",
   "execution_count": 2,
   "metadata": {},
   "outputs": [
    {
     "name": "stdout",
     "output_type": "stream",
     "text": [
      "Warning: 'conda-forge' already in 'channels' list, moving to the top\n",
      "\n",
      "Note: you may need to restart the kernel to use updated packages.\n"
     ]
    }
   ],
   "source": [
    "conda config --add channels conda-forge"
   ]
  },
  {
   "cell_type": "code",
   "execution_count": 3,
   "metadata": {},
   "outputs": [
    {
     "name": "stdout",
     "output_type": "stream",
     "text": [
      "\n",
      "Note: you may need to restart the kernel to use updated packages.\n"
     ]
    }
   ],
   "source": [
    "conda config --set channel_priority strict"
   ]
  },
  {
   "cell_type": "code",
   "execution_count": 1,
   "metadata": {},
   "outputs": [
    {
     "name": "stdout",
     "output_type": "stream",
     "text": [
      "Collecting package metadata (current_repodata.json): done\n",
      "Solving environment: done\n",
      "\n",
      "## Package Plan ##\n",
      "\n",
      "  environment location: /Users/rubinbaskir/anaconda3/envs/TEST\n",
      "\n",
      "  added / updated specs:\n",
      "    - geopandas\n",
      "    - python=3.7\n",
      "\n",
      "\n",
      "The following NEW packages will be INSTALLED:\n",
      "\n",
      "  attrs              conda-forge/noarch::attrs-19.3.0-py_0\n",
      "  boost-cpp          conda-forge/osx-64::boost-cpp-1.70.0-h75728bb_2\n",
      "  bzip2              conda-forge/osx-64::bzip2-1.0.8-h01d97ff_1\n",
      "  ca-certificates    conda-forge/osx-64::ca-certificates-2019.9.11-hecc5488_0\n",
      "  cairo              conda-forge/osx-64::cairo-1.16.0-he1c11cd_1002\n",
      "  certifi            conda-forge/osx-64::certifi-2019.9.11-py37_0\n",
      "  cfitsio            conda-forge/osx-64::cfitsio-3.470-h84d2f63_2\n",
      "  click              conda-forge/noarch::click-7.0-py_0\n",
      "  click-plugins      conda-forge/noarch::click-plugins-1.1.1-py_0\n",
      "  cligj              conda-forge/noarch::cligj-0.5.0-py_0\n",
      "  curl               conda-forge/osx-64::curl-7.65.3-h22ea746_0\n",
      "  expat              conda-forge/osx-64::expat-2.2.5-h4a8c4bd_1004\n",
      "  fiona              conda-forge/osx-64::fiona-1.8.11-py37he71f6a4_0\n",
      "  fontconfig         conda-forge/osx-64::fontconfig-2.13.1-h6b1039f_1001\n",
      "  freetype           conda-forge/osx-64::freetype-2.10.0-h24853df_1\n",
      "  freexl             conda-forge/osx-64::freexl-1.0.5-h1de35cc_1002\n",
      "  gdal               conda-forge/osx-64::gdal-3.0.2-py37h97c3584_3\n",
      "  geopandas          conda-forge/noarch::geopandas-0.6.2-py_0\n",
      "  geos               conda-forge/osx-64::geos-3.7.2-h6de7cb9_2\n",
      "  geotiff            conda-forge/osx-64::geotiff-1.5.1-ha113b03_7\n",
      "  gettext            conda-forge/osx-64::gettext-0.19.8.1-h46ab8bc_1002\n",
      "  giflib             conda-forge/osx-64::giflib-5.1.7-h01d97ff_1\n",
      "  glib               conda-forge/osx-64::glib-2.58.3-py37h577aef8_1002\n",
      "  hdf4               conda-forge/osx-64::hdf4-4.2.13-h84186c3_1003\n",
      "  hdf5               conda-forge/osx-64::hdf5-1.10.5-nompi_h3e39495_1104\n",
      "  icu                conda-forge/osx-64::icu-64.2-h6de7cb9_1\n",
      "  jpeg               conda-forge/osx-64::jpeg-9c-h1de35cc_1001\n",
      "  json-c             conda-forge/osx-64::json-c-0.13.1-h1de35cc_1001\n",
      "  kealib             conda-forge/osx-64::kealib-1.4.10-h6659575_1005\n",
      "  krb5               conda-forge/osx-64::krb5-1.16.3-hcfa6398_1001\n",
      "  libblas            conda-forge/osx-64::libblas-3.8.0-14_openblas\n",
      "  libcblas           conda-forge/osx-64::libcblas-3.8.0-14_openblas\n",
      "  libcurl            conda-forge/osx-64::libcurl-7.65.3-h16faf7d_0\n",
      "  libcxx             conda-forge/osx-64::libcxx-9.0.0-h89e68fa_1\n",
      "  libdap4            conda-forge/osx-64::libdap4-3.20.4-habf5908_0\n",
      "  libedit            conda-forge/osx-64::libedit-3.1.20170329-hcfe32e1_1001\n",
      "  libffi             conda-forge/osx-64::libffi-3.2.1-h6de7cb9_1006\n",
      "  libgdal            conda-forge/osx-64::libgdal-3.0.2-h6a635d1_3\n",
      "  libgfortran        conda-forge/osx-64::libgfortran-4.0.0-2\n",
      "  libiconv           conda-forge/osx-64::libiconv-1.15-h01d97ff_1005\n",
      "  libkml             conda-forge/osx-64::libkml-1.3.0-hed7d534_1010\n",
      "  liblapack          conda-forge/osx-64::liblapack-3.8.0-14_openblas\n",
      "  libnetcdf          conda-forge/osx-64::libnetcdf-4.7.1-nompi_hec86efb_102\n",
      "  libopenblas        conda-forge/osx-64::libopenblas-0.3.7-h4bb4525_3\n",
      "  libpng             conda-forge/osx-64::libpng-1.6.37-h2573ce8_0\n",
      "  libpq              conda-forge/osx-64::libpq-11.5-h31a01ba_2\n",
      "  libspatialindex    conda-forge/osx-64::libspatialindex-1.9.3-h4a8c4bd_1\n",
      "  libspatialite      conda-forge/osx-64::libspatialite-4.3.0a-h7a659be_1032\n",
      "  libssh2            conda-forge/osx-64::libssh2-1.8.2-hcdc9a53_2\n",
      "  libtiff            conda-forge/osx-64::libtiff-4.1.0-ha78913b_1\n",
      "  libwebp            conda-forge/osx-64::libwebp-1.0.2-h20df551_3\n",
      "  libxml2            conda-forge/osx-64::libxml2-2.9.10-h53d96d6_0\n",
      "  llvm-openmp        conda-forge/osx-64::llvm-openmp-9.0.0-h40edb58_0\n",
      "  lz4-c              conda-forge/osx-64::lz4-c-1.8.3-h6de7cb9_1001\n",
      "  munch              conda-forge/noarch::munch-2.5.0-py_0\n",
      "  ncurses            conda-forge/osx-64::ncurses-6.1-h0a44026_1002\n",
      "  numpy              conda-forge/osx-64::numpy-1.17.3-py37hde6bac1_0\n",
      "  openjpeg           conda-forge/osx-64::openjpeg-2.3.1-hdc36067_1\n",
      "  openssl            conda-forge/osx-64::openssl-1.1.1d-h0b31af3_0\n",
      "  pandas             conda-forge/osx-64::pandas-0.25.3-py37h4f17bb1_0\n",
      "  pcre               conda-forge/osx-64::pcre-8.43-h4a8c4bd_0\n",
      "  pip                conda-forge/osx-64::pip-19.3.1-py37_0\n",
      "  pixman             conda-forge/osx-64::pixman-0.38.0-h01d97ff_1003\n",
      "  poppler            conda-forge/osx-64::poppler-0.67.0-h16886b5_8\n",
      "  poppler-data       conda-forge/noarch::poppler-data-0.4.9-1\n",
      "  postgresql         conda-forge/osx-64::postgresql-11.5-h26bc10f_2\n",
      "  proj               conda-forge/osx-64::proj-6.2.1-h773a61f_0\n",
      "  pyproj             conda-forge/osx-64::pyproj-2.4.1-py37h03a428a_1\n",
      "  python             conda-forge/osx-64::python-3.7.3-h93065d6_1\n",
      "  python-dateutil    conda-forge/noarch::python-dateutil-2.8.1-py_0\n",
      "  pytz               conda-forge/noarch::pytz-2019.3-py_0\n",
      "  readline           conda-forge/osx-64::readline-8.0-hcfe32e1_0\n",
      "  rtree              conda-forge/osx-64::rtree-0.9.1-py37h7b0cdae_0\n",
      "  setuptools         conda-forge/osx-64::setuptools-42.0.1-py37_0\n",
      "  shapely            conda-forge/osx-64::shapely-1.6.4-py37h5c88e11_1006\n",
      "  six                conda-forge/osx-64::six-1.13.0-py37_0\n",
      "  sqlite             conda-forge/osx-64::sqlite-3.30.1-h93121df_0\n",
      "  tbb                conda-forge/osx-64::tbb-2018.0.5-h2d50403_0\n",
      "  tiledb             conda-forge/osx-64::tiledb-1.7.0-hd5e958f_2\n",
      "  tk                 conda-forge/osx-64::tk-8.6.10-hbbe82c9_0\n",
      "  tzcode             conda-forge/osx-64::tzcode-2019a-h01d97ff_1002\n",
      "  wheel              conda-forge/osx-64::wheel-0.33.6-py37_0\n",
      "  xerces-c           conda-forge/osx-64::xerces-c-3.2.2-hbda6038_1004\n",
      "  xz                 conda-forge/osx-64::xz-5.2.4-h1de35cc_1001\n",
      "  zlib               conda-forge/osx-64::zlib-1.2.11-h0b31af3_1006\n",
      "  zstd               conda-forge/osx-64::zstd-1.4.4-he7fca8b_1\n",
      "\n",
      "\n",
      "Preparing transaction: done\n",
      "Verifying transaction: done\n",
      "Executing transaction: done\n",
      "#\n",
      "# To activate this environment, use\n",
      "#\n",
      "#     $ conda activate TEST\n",
      "#\n",
      "# To deactivate an active environment, use\n",
      "#\n",
      "#     $ conda deactivate\n",
      "\n",
      "\n",
      "Note: you may need to restart the kernel to use updated packages.\n"
     ]
    }
   ],
   "source": [
    "conda create --name TEST python=3.7 geopandas --yes"
   ]
  },
  {
   "cell_type": "code",
   "execution_count": 5,
   "metadata": {},
   "outputs": [
    {
     "name": "stdout",
     "output_type": "stream",
     "text": [
      "\n",
      "CommandNotFoundError: Your shell has not been properly configured to use 'conda activate'.\n",
      "To initialize your shell, run\n",
      "\n",
      "    $ conda init <SHELL_NAME>\n",
      "\n",
      "Currently supported shells are:\n",
      "  - bash\n",
      "  - fish\n",
      "  - tcsh\n",
      "  - xonsh\n",
      "  - zsh\n",
      "  - powershell\n",
      "\n",
      "See 'conda init --help' for more information and options.\n",
      "\n",
      "IMPORTANT: You may need to close and restart your shell after running 'conda init'.\n",
      "\n",
      "\n"
     ]
    }
   ],
   "source": [
    "! conda activate TEST"
   ]
  },
  {
   "cell_type": "code",
   "execution_count": 6,
   "metadata": {},
   "outputs": [
    {
     "name": "stdout",
     "output_type": "stream",
     "text": [
      "# packages in environment at /Users/rubinbaskir/anaconda3:\n",
      "#\n",
      "# Name                    Version                   Build  Channel\n",
      "_anaconda_depends         2019.03                  py37_0  \n",
      "_ipyw_jlab_nb_ext_conf    0.1.0                    py37_0  \n",
      "alabaster                 0.7.12                   py37_0  \n",
      "anaconda                  custom                   py37_1  \n",
      "anaconda-client           1.7.2                    py37_0  \n",
      "anaconda-navigator        1.9.7                    py37_0  \n",
      "anaconda-project          0.8.3                      py_0  \n",
      "appnope                   0.1.0                    py37_0  \n",
      "appscript                 1.1.0            py37h1de35cc_0  \n",
      "asn1crypto                0.24.0                   py37_0  \n",
      "astroid                   2.2.5                    py37_0  \n",
      "astropy                   3.2.1            py37h1de35cc_0  \n",
      "atomicwrites              1.3.0                    py37_1  \n",
      "attrs                     19.1.0                   py37_1  \n",
      "babel                     2.7.0                      py_0  \n",
      "backcall                  0.1.0                    py37_0  \n",
      "backports                 1.0                        py_2  \n",
      "backports.functools_lru_cache 1.5                        py_2  \n",
      "backports.os              0.1.1                    py37_0  \n",
      "backports.shutil_get_terminal_size 1.0.0                    py37_2  \n",
      "backports.tempfile        1.0                        py_1  \n",
      "backports.weakref         1.0.post1                  py_1  \n",
      "beautifulsoup4            4.7.1                    py37_1  \n",
      "bitarray                  0.9.3            py37h1de35cc_0  \n",
      "bkcharts                  0.2                      py37_0  \n",
      "blas                      1.0                         mkl  \n",
      "bleach                    3.1.0                    py37_0  \n",
      "blosc                     1.16.3               hd9629dc_0  \n",
      "bokeh                     1.2.0                    py37_0  \n",
      "boost-cpp                 1.70.0               hd59e818_1    conda-forge\n",
      "boto                      2.49.0                   py37_0  \n",
      "bottleneck                1.2.1            py37h1d22016_1  \n",
      "bzip2                     1.0.8                h1de35cc_0  \n",
      "ca-certificates           2019.9.11            hecc5488_0    conda-forge\n",
      "cairo                     1.14.12           h9d4d9ac_1005    conda-forge\n",
      "certifi                   2019.9.11                py37_0    conda-forge\n",
      "cffi                      1.12.3           py37hb5b8e2f_0  \n",
      "chardet                   3.0.4                    py37_1  \n",
      "click                     7.0                      py37_0  \n",
      "click-plugins             1.1.1                      py_0    conda-forge\n",
      "cligj                     0.5.0                      py_0    conda-forge\n",
      "cloudpickle               1.2.1                      py_0  \n",
      "clyent                    1.2.2                    py37_1  \n",
      "colorama                  0.4.1                    py37_0  \n",
      "conda                     4.7.12                   py37_0    conda-forge\n",
      "conda-build               3.18.8                   py37_0  \n",
      "conda-env                 2.6.0                         1  \n",
      "conda-package-handling    1.3.11                   py37_0  \n",
      "conda-verify              3.4.2                      py_1  \n",
      "contextlib2               0.5.5                    py37_0  \n",
      "cryptography              2.7              py37ha12b0ac_0  \n",
      "curl                      7.65.2               ha441bb4_0  \n",
      "cycler                    0.10.0                   py37_0  \n",
      "cython                    0.29.12          py37h0a44026_0  \n",
      "cytoolz                   0.10.0           py37h1de35cc_0  \n",
      "dask                      2.1.0                      py_0  \n",
      "dask-core                 2.1.0                      py_0  \n",
      "dbus                      1.13.6               h90a0687_0  \n",
      "decorator                 4.4.0                    py37_1  \n",
      "defusedxml                0.6.0                      py_0  \n",
      "distributed               2.1.0                      py_0  \n",
      "docutils                  0.14                     py37_0  \n",
      "entrypoints               0.3                      py37_0  \n",
      "et_xmlfile                1.0.1                    py37_0  \n",
      "expat                     2.2.6                h0a44026_0  \n",
      "fastcache                 1.1.0            py37h1de35cc_0  \n",
      "filelock                  3.0.12                     py_0  \n",
      "fiona                     1.8.4           py37h8e9a8e4_1001    conda-forge\n",
      "flask                     1.1.1                      py_0  \n",
      "fontconfig                2.13.1            h1027ab8_1000    conda-forge\n",
      "freetype                  2.9.1                hb4e5f40_0  \n",
      "freexl                    1.0.5             h1de35cc_1002    conda-forge\n",
      "future                    0.17.1                   py37_0  \n",
      "gdal                      2.3.3            py37hbe65578_0  \n",
      "geopandas                 0.6.2                      py_0    conda-forge\n",
      "geos                      3.7.1             h0a44026_1000    conda-forge\n",
      "get_terminal_size         1.0.0                h7520d66_0  \n",
      "gettext                   0.19.8.1             h15daf44_3  \n",
      "gevent                    1.4.0            py37h1de35cc_0  \n",
      "giflib                    5.1.7                h01d97ff_1    conda-forge\n",
      "glib                      2.56.2               hd9629dc_0  \n",
      "glob2                     0.7                        py_0  \n",
      "gmp                       6.1.2                hb37e062_1  \n",
      "gmpy2                     2.0.8            py37h6ef4df4_2  \n",
      "greenlet                  0.4.15           py37h1de35cc_0  \n",
      "h5py                      2.9.0            py37h3134771_0  \n",
      "hdf4                      4.2.13                        0    conda-forge\n",
      "hdf5                      1.10.4               hfa1e0ec_0  \n",
      "heapdict                  1.0.0                    py37_2  \n",
      "html5lib                  1.0.1                    py37_0  \n",
      "icu                       58.2                 h4b95b61_1  \n",
      "idna                      2.8                      py37_0  \n",
      "imageio                   2.5.0                    py37_0  \n",
      "imagesize                 1.1.0                    py37_0  \n",
      "importlib_metadata        0.17                     py37_1  \n",
      "intel-openmp              2019.4                      233  \n",
      "ipykernel                 5.1.1            py37h39e3cac_0  \n",
      "ipython                   7.6.1            py37h39e3cac_0  \n",
      "ipython_genutils          0.2.0                    py37_0  \n",
      "ipywidgets                7.5.0                      py_0  \n",
      "isort                     4.3.21                   py37_0  \n",
      "itsdangerous              1.1.0                    py37_0  \n",
      "jbig                      2.1                  h4d881f8_0  \n",
      "jdcal                     1.4.1                      py_0  \n",
      "jedi                      0.13.3                   py37_0  \n",
      "jinja2                    2.10.1                   py37_0  \n",
      "joblib                    0.13.2                   py37_0  \n",
      "jpeg                      9b                   he5867d9_2  \n",
      "json-c                    0.13.1            h1de35cc_1001    conda-forge\n",
      "json5                     0.8.4                      py_0  \n",
      "jsonschema                3.0.1                    py37_0  \n",
      "jupyter                   1.0.0                    py37_7  \n",
      "jupyter_client            5.3.1                      py_0  \n",
      "jupyter_console           6.0.0                    py37_0  \n",
      "jupyter_core              4.5.0                      py_0  \n",
      "jupyterlab                1.0.2            py37hf63ae98_0  \n",
      "jupyterlab_server         1.0.0                      py_0  \n",
      "kealib                    1.4.10            hecf890f_1003    conda-forge\n",
      "keyring                   18.0.0                   py37_0  \n",
      "kiwisolver                1.1.0            py37h0a44026_0  \n",
      "krb5                      1.16.1               hddcf347_7  \n",
      "lazy-object-proxy         1.4.1            py37h1de35cc_0  \n",
      "libarchive                3.3.3                h786848e_5  \n",
      "libcurl                   7.65.2               h051b688_0  \n",
      "libcxx                    4.0.1                hcfea43d_1  \n",
      "libcxxabi                 4.0.1                hcfea43d_1  \n",
      "libdap4                   3.19.1            hae55d67_1000    conda-forge\n",
      "libedit                   3.1.20181209         hb402a30_0  \n",
      "libffi                    3.2.1                h475c297_4  \n",
      "libgdal                   2.3.3                h0950a36_0  \n",
      "libgfortran               3.0.1                h93005f0_2  \n",
      "libiconv                  1.15                 hdd342a3_7  \n",
      "libkml                    1.3.0             hed7d534_1010    conda-forge\n",
      "liblief                   0.9.0                h2a1bed3_2  \n",
      "libnetcdf                 4.6.1                hd5207e6_2  \n",
      "libpng                    1.6.37               ha441bb4_0  \n",
      "libpq                     11.2                 h051b688_0  \n",
      "libsodium                 1.0.16               h3efe00b_0  \n",
      "libspatialindex           1.8.5                h6de7cb9_4    conda-forge\n",
      "libspatialite             4.3.0a            h0cd9627_1026    conda-forge\n",
      "libssh2                   1.8.2                ha12b0ac_0  \n",
      "libtiff                   4.0.10               hcb84e12_2  \n",
      "libxml2                   2.9.9                hf6e021a_1  \n",
      "libxslt                   1.1.33               h33a18ac_0  \n",
      "llvm-openmp               4.0.1                hcfea43d_1  \n",
      "llvmlite                  0.29.0           py37h98b8051_0  \n",
      "locket                    0.2.0                    py37_1  \n",
      "lxml                      4.3.4            py37hef8c89e_0  \n",
      "lz4-c                     1.8.1.2              h1de35cc_0  \n",
      "lzo                       2.10                 h362108e_2  \n",
      "markupsafe                1.1.1            py37h1de35cc_0  \n",
      "matplotlib                3.1.0            py37h54f8f79_0  \n",
      "mccabe                    0.6.1                    py37_1  \n",
      "mistune                   0.8.4            py37h1de35cc_0  \n",
      "mkl                       2019.4                      233  \n",
      "mkl-service               2.0.2            py37h1de35cc_0  \n",
      "mkl_fft                   1.0.12           py37h5e564d8_0  \n",
      "mkl_random                1.0.2            py37h27c97d8_0  \n",
      "mock                      3.0.5                    py37_0  \n",
      "more-itertools            7.0.0                    py37_0  \n",
      "mpc                       1.1.0                h6ef4df4_1  \n",
      "mpfr                      4.0.1                h3018a27_3  \n",
      "mpmath                    1.1.0                    py37_0  \n",
      "msgpack-python            0.6.1            py37h04f5b5a_1  \n",
      "multipledispatch          0.6.0                    py37_0  \n",
      "munch                     2.5.0                      py_0    conda-forge\n",
      "navigator-updater         0.2.1                    py37_0  \n",
      "nbconvert                 5.5.0                      py_0  \n",
      "nbformat                  4.4.0                    py37_0  \n",
      "ncurses                   6.1                  h0a44026_1  \n",
      "networkx                  2.3                        py_0  \n",
      "nltk                      3.4.4                    py37_0  \n",
      "nose                      1.3.7                    py37_2  \n",
      "notebook                  6.0.0                    py37_0  \n",
      "numba                     0.44.1           py37h6440ff4_0  \n",
      "numexpr                   2.6.9            py37h7413580_0  \n",
      "numpy                     1.16.4           py37hacdab7b_0  \n",
      "numpy-base                1.16.4           py37h6575580_0  \n",
      "numpydoc                  0.9.1                      py_0  \n",
      "olefile                   0.46                     py37_0  \n",
      "openjpeg                  2.3.1                hdc36067_1    conda-forge\n",
      "openpyxl                  2.6.2                      py_0  \n",
      "openssl                   1.1.1d               h0b31af3_0    conda-forge\n",
      "packaging                 19.0                     py37_0  \n",
      "pandas                    0.24.2           py37h0a44026_0  \n",
      "pandoc                    2.2.3.2                       0  \n",
      "pandocfilters             1.4.2                    py37_1  \n",
      "parso                     0.5.0                      py_0  \n",
      "partd                     1.0.0                      py_0  \n",
      "path.py                   12.0.1                     py_0  \n",
      "pathlib2                  2.3.4                    py37_0  \n",
      "patsy                     0.5.1                    py37_0  \n",
      "pcre                      8.43                 h0a44026_0  \n",
      "pep8                      1.7.1                    py37_0  \n",
      "pexpect                   4.7.0                    py37_0  \n",
      "pickleshare               0.7.5                    py37_0  \n",
      "pillow                    6.1.0            py37hb68e598_0  \n",
      "pip                       19.1.1                   py37_0  \n",
      "pixman                    0.34.0            h1de35cc_1003    conda-forge\n",
      "pkginfo                   1.5.0.1                  py37_0  \n",
      "pluggy                    0.12.0                     py_0  \n",
      "ply                       3.11                     py37_0  \n",
      "poppler                   0.65.0               ha097c24_1  \n",
      "poppler-data              0.4.9                         1    conda-forge\n",
      "proj4                     5.2.0             h6de7cb9_1006    conda-forge\n",
      "prometheus_client         0.7.1                      py_0  \n",
      "prompt_toolkit            2.0.9                    py37_0  \n",
      "psutil                    5.6.3            py37h1de35cc_0  \n",
      "ptyprocess                0.6.0                    py37_0  \n",
      "py                        1.8.0                    py37_0  \n",
      "py-lief                   0.9.0            py37h1413db1_2  \n",
      "pycodestyle               2.5.0                    py37_0  \n",
      "pycosat                   0.6.3            py37h1de35cc_0  \n",
      "pycparser                 2.19                     py37_0  \n",
      "pycrypto                  2.6.1            py37h1de35cc_9  \n",
      "pycurl                    7.43.0.3         py37ha12b0ac_0  \n",
      "pyflakes                  2.1.1                    py37_0  \n",
      "pygments                  2.4.2                      py_0  \n",
      "pylint                    2.3.1                    py37_0  \n",
      "pyodbc                    4.0.26           py37h0a44026_0  \n",
      "pyopenssl                 19.0.0                   py37_0  \n",
      "pyparsing                 2.4.0                      py_0  \n",
      "pyproj                    1.9.6           py37h0b31af3_1002    conda-forge\n",
      "pyqt                      5.9.2            py37h655552a_2  \n",
      "pyrsistent                0.14.11          py37h1de35cc_0  \n",
      "pysocks                   1.7.0                    py37_0  \n",
      "pytables                  3.5.2            py37h5bccee9_1  \n",
      "pytest                    5.0.1                    py37_0  \n",
      "pytest-arraydiff          0.3              py37h39e3cac_0  \n",
      "pytest-astropy            0.5.0                    py37_0  \n",
      "pytest-doctestplus        0.3.0                    py37_0  \n",
      "pytest-openfiles          0.3.2                    py37_0  \n",
      "pytest-remotedata         0.3.1                    py37_0  \n",
      "python                    3.7.3                h359304d_0  \n",
      "python-dateutil           2.8.0                    py37_0  \n",
      "python-libarchive-c       2.8                     py37_11  \n",
      "python.app                2                        py37_9  \n",
      "pytz                      2019.1                     py_0  \n",
      "pywavelets                1.0.3            py37h1d22016_1  \n",
      "pyyaml                    5.1.1            py37h1de35cc_0  \n",
      "pyzmq                     18.0.0           py37h0a44026_0  \n",
      "qt                        5.9.7                h468cd18_1  \n",
      "qtawesome                 0.5.7                    py37_1  \n",
      "qtconsole                 4.5.1                      py_0  \n",
      "qtpy                      1.8.0                      py_0  \n",
      "readline                  7.0                  h1de35cc_5  \n",
      "requests                  2.22.0                   py37_0  \n",
      "rope                      0.14.0                     py_0  \n",
      "rtree                     0.8.3                    py37_0  \n",
      "ruamel_yaml               0.15.46          py37h1de35cc_0  \n",
      "scikit-image              0.15.0           py37h0a44026_0  \n",
      "scikit-learn              0.21.2           py37h27c97d8_0  \n",
      "scipy                     1.3.0            py37h1410ff5_0  \n",
      "seaborn                   0.9.0                    py37_0  \n",
      "send2trash                1.5.0                    py37_0  \n",
      "setuptools                41.0.1                   py37_0  \n",
      "shapely                   1.6.4           py37h79c6f3e_1005    conda-forge\n",
      "simplegeneric             0.8.1                    py37_2  \n",
      "singledispatch            3.4.0.3                  py37_0  \n",
      "sip                       4.19.8           py37h0a44026_0  \n",
      "six                       1.12.0                   py37_0  \n",
      "snappy                    1.1.7                he62c110_3  \n",
      "snowballstemmer           1.9.0                      py_0  \n",
      "sortedcollections         1.1.2                    py37_0  \n",
      "sortedcontainers          2.1.0                    py37_0  \n",
      "soupsieve                 1.8                      py37_0  \n",
      "sphinx                    2.1.2                      py_0  \n",
      "sphinxcontrib             1.0                      py37_1  \n",
      "sphinxcontrib-applehelp   1.0.1                      py_0  \n",
      "sphinxcontrib-devhelp     1.0.1                      py_0  \n",
      "sphinxcontrib-htmlhelp    1.0.2                      py_0  \n",
      "sphinxcontrib-jsmath      1.0.1                      py_0  \n",
      "sphinxcontrib-qthelp      1.0.2                      py_0  \n",
      "sphinxcontrib-serializinghtml 1.1.3                      py_0  \n",
      "sphinxcontrib-websupport  1.1.2                      py_0  \n",
      "spyder                    3.3.6                    py37_0  \n",
      "spyder-kernels            0.5.1                    py37_0  \n",
      "sqlalchemy                1.3.5            py37h1de35cc_0  \n",
      "sqlite                    3.29.0               ha441bb4_0  \n",
      "statsmodels               0.10.0           py37h1d22016_0  \n",
      "sympy                     1.4                      py37_0  \n",
      "tbb                       2018.0.5             h2d50403_0    conda-forge\n",
      "tblib                     1.4.0                      py_0  \n",
      "terminado                 0.8.2                    py37_0  \n",
      "testpath                  0.4.2                    py37_0  \n",
      "tk                        8.6.8                ha441bb4_0  \n",
      "toolz                     0.10.0                     py_0  \n",
      "tornado                   6.0.3            py37h1de35cc_0  \n",
      "tqdm                      4.32.1                     py_0  \n",
      "traitlets                 4.3.2                    py37_0  \n",
      "unicodecsv                0.14.1                   py37_0  \n",
      "unixodbc                  2.3.7                h1de35cc_0  \n",
      "urllib3                   1.24.2                   py37_0  \n",
      "wcwidth                   0.1.7                    py37_0  \n",
      "webencodings              0.5.1                    py37_1  \n",
      "werkzeug                  0.15.4                     py_0  \n",
      "wheel                     0.33.4                   py37_0  \n",
      "widgetsnbextension        3.5.0                    py37_0  \n",
      "wrapt                     1.11.2           py37h1de35cc_0  \n",
      "wurlitzer                 1.0.2                    py37_0  \n",
      "xerces-c                  3.2.2             h4db8090_1003    conda-forge\n",
      "xlrd                      1.2.0                    py37_0  \n",
      "xlsxwriter                1.1.8                      py_0  \n",
      "xlwings                   0.15.8                   py37_0  \n",
      "xlwt                      1.3.0                    py37_0  \n",
      "xz                        5.2.4                h1de35cc_4  \n",
      "yaml                      0.1.7                hc338f04_2  \n",
      "zeromq                    4.3.1                h0a44026_3  \n",
      "zict                      1.0.0                      py_0  \n",
      "zipp                      0.5.1                      py_0  \n",
      "zlib                      1.2.11               h1de35cc_3  \n",
      "zstd                      1.3.7                h5bba6e5_0  \n",
      "\n",
      "Note: you may need to restart the kernel to use updated packages.\n"
     ]
    }
   ],
   "source": [
    "conda list"
   ]
  },
  {
   "cell_type": "code",
   "execution_count": 1,
   "metadata": {},
   "outputs": [
    {
     "name": "stdout",
     "output_type": "stream",
     "text": [
      "\n",
      "CommandNotFoundError: Your shell has not been properly configured to use 'conda activate'.\n",
      "To initialize your shell, run\n",
      "\n",
      "    $ conda init <SHELL_NAME>\n",
      "\n",
      "Currently supported shells are:\n",
      "  - bash\n",
      "  - fish\n",
      "  - tcsh\n",
      "  - xonsh\n",
      "  - zsh\n",
      "  - powershell\n",
      "\n",
      "See 'conda init --help' for more information and options.\n",
      "\n",
      "IMPORTANT: You may need to close and restart your shell after running 'conda init'.\n",
      "\n",
      "\n",
      "\n",
      "Note: you may need to restart the kernel to use updated packages.\n"
     ]
    }
   ],
   "source": [
    "conda activate"
   ]
  },
  {
   "cell_type": "code",
   "execution_count": 2,
   "metadata": {},
   "outputs": [
    {
     "name": "stdout",
     "output_type": "stream",
     "text": [
      "WARNING: A conda environment already exists at '/Users/rubinbaskir/anaconda3/envs/TEST'\n",
      "Remove existing environment (y/[n])? ^C\n",
      "\n",
      "CondaSystemExit: \n",
      "Operation aborted.  Exiting.\n",
      "\n",
      "\n",
      "Note: you may need to restart the kernel to use updated packages.\n"
     ]
    }
   ],
   "source": [
    "conda create -n TEST python\n"
   ]
  },
  {
   "cell_type": "code",
   "execution_count": 3,
   "metadata": {},
   "outputs": [
    {
     "ename": "NameError",
     "evalue": "name 'sys' is not defined",
     "output_type": "error",
     "traceback": [
      "\u001b[0;31m---------------------------------------------------------------------------\u001b[0m",
      "\u001b[0;31mNameError\u001b[0m                                 Traceback (most recent call last)",
      "\u001b[0;32m<ipython-input-3-2aeef1981c98>\u001b[0m in \u001b[0;36m<module>\u001b[0;34m\u001b[0m\n\u001b[0;32m----> 1\u001b[0;31m \u001b[0msys\u001b[0m\u001b[0;34m.\u001b[0m\u001b[0mexecutable\u001b[0m\u001b[0;34m\u001b[0m\u001b[0;34m\u001b[0m\u001b[0m\n\u001b[0m",
      "\u001b[0;31mNameError\u001b[0m: name 'sys' is not defined"
     ]
    }
   ],
   "source": [
    "sys.executable\n"
   ]
  },
  {
   "cell_type": "code",
   "execution_count": 4,
   "metadata": {},
   "outputs": [
    {
     "ename": "ImportError",
     "evalue": "dlopen(/Users/rubinbaskir/anaconda3/lib/python3.7/site-packages/fiona/ogrext.cpython-37m-darwin.so, 2): Library not loaded: @rpath/libgif.7.dylib\n  Referenced from: /Users/rubinbaskir/anaconda3/lib/libgdal.20.dylib\n  Reason: image not found",
     "output_type": "error",
     "traceback": [
      "\u001b[0;31m---------------------------------------------------------------------------\u001b[0m",
      "\u001b[0;31mImportError\u001b[0m                               Traceback (most recent call last)",
      "\u001b[0;32m<ipython-input-4-fc7d1d298f0c>\u001b[0m in \u001b[0;36m<module>\u001b[0;34m\u001b[0m\n\u001b[0;32m----> 1\u001b[0;31m \u001b[0;32mimport\u001b[0m \u001b[0mgeopandas\u001b[0m\u001b[0;34m\u001b[0m\u001b[0;34m\u001b[0m\u001b[0m\n\u001b[0m",
      "\u001b[0;32m~/anaconda3/lib/python3.7/site-packages/geopandas/__init__.py\u001b[0m in \u001b[0;36m<module>\u001b[0;34m\u001b[0m\n\u001b[1;32m      3\u001b[0m \u001b[0;32mfrom\u001b[0m \u001b[0mgeopandas\u001b[0m\u001b[0;34m.\u001b[0m\u001b[0marray\u001b[0m \u001b[0;32mimport\u001b[0m \u001b[0m_points_from_xy\u001b[0m \u001b[0;32mas\u001b[0m \u001b[0mpoints_from_xy\u001b[0m  \u001b[0;31m# noqa\u001b[0m\u001b[0;34m\u001b[0m\u001b[0;34m\u001b[0m\u001b[0m\n\u001b[1;32m      4\u001b[0m \u001b[0;34m\u001b[0m\u001b[0m\n\u001b[0;32m----> 5\u001b[0;31m \u001b[0;32mfrom\u001b[0m \u001b[0mgeopandas\u001b[0m\u001b[0;34m.\u001b[0m\u001b[0mio\u001b[0m\u001b[0;34m.\u001b[0m\u001b[0mfile\u001b[0m \u001b[0;32mimport\u001b[0m \u001b[0mread_file\u001b[0m  \u001b[0;31m# noqa\u001b[0m\u001b[0;34m\u001b[0m\u001b[0;34m\u001b[0m\u001b[0m\n\u001b[0m\u001b[1;32m      6\u001b[0m \u001b[0;32mfrom\u001b[0m \u001b[0mgeopandas\u001b[0m\u001b[0;34m.\u001b[0m\u001b[0mio\u001b[0m\u001b[0;34m.\u001b[0m\u001b[0msql\u001b[0m \u001b[0;32mimport\u001b[0m \u001b[0mread_postgis\u001b[0m  \u001b[0;31m# noqa\u001b[0m\u001b[0;34m\u001b[0m\u001b[0;34m\u001b[0m\u001b[0m\n\u001b[1;32m      7\u001b[0m \u001b[0;32mfrom\u001b[0m \u001b[0mgeopandas\u001b[0m\u001b[0;34m.\u001b[0m\u001b[0mtools\u001b[0m \u001b[0;32mimport\u001b[0m \u001b[0msjoin\u001b[0m  \u001b[0;31m# noqa\u001b[0m\u001b[0;34m\u001b[0m\u001b[0;34m\u001b[0m\u001b[0m\n",
      "\u001b[0;32m~/anaconda3/lib/python3.7/site-packages/geopandas/io/file.py\u001b[0m in \u001b[0;36m<module>\u001b[0;34m\u001b[0m\n\u001b[1;32m      4\u001b[0m \u001b[0;32mimport\u001b[0m \u001b[0msix\u001b[0m\u001b[0;34m\u001b[0m\u001b[0;34m\u001b[0m\u001b[0m\n\u001b[1;32m      5\u001b[0m \u001b[0;34m\u001b[0m\u001b[0m\n\u001b[0;32m----> 6\u001b[0;31m \u001b[0;32mimport\u001b[0m \u001b[0mfiona\u001b[0m\u001b[0;34m\u001b[0m\u001b[0;34m\u001b[0m\u001b[0m\n\u001b[0m\u001b[1;32m      7\u001b[0m \u001b[0;34m\u001b[0m\u001b[0m\n\u001b[1;32m      8\u001b[0m \u001b[0;32mfrom\u001b[0m \u001b[0mgeopandas\u001b[0m \u001b[0;32mimport\u001b[0m \u001b[0mGeoDataFrame\u001b[0m\u001b[0;34m,\u001b[0m \u001b[0mGeoSeries\u001b[0m\u001b[0;34m\u001b[0m\u001b[0;34m\u001b[0m\u001b[0m\n",
      "\u001b[0;32m~/anaconda3/lib/python3.7/site-packages/fiona/__init__.py\u001b[0m in \u001b[0;36m<module>\u001b[0;34m\u001b[0m\n\u001b[1;32m     81\u001b[0m     \u001b[0mos\u001b[0m\u001b[0;34m.\u001b[0m\u001b[0menviron\u001b[0m\u001b[0;34m[\u001b[0m\u001b[0;34m\"PATH\"\u001b[0m\u001b[0;34m]\u001b[0m \u001b[0;34m=\u001b[0m \u001b[0mos\u001b[0m\u001b[0;34m.\u001b[0m\u001b[0menviron\u001b[0m\u001b[0;34m[\u001b[0m\u001b[0;34m\"PATH\"\u001b[0m\u001b[0;34m]\u001b[0m \u001b[0;34m+\u001b[0m \u001b[0;34m\";\"\u001b[0m \u001b[0;34m+\u001b[0m \u001b[0mlibdir\u001b[0m\u001b[0;34m\u001b[0m\u001b[0;34m\u001b[0m\u001b[0m\n\u001b[1;32m     82\u001b[0m \u001b[0;34m\u001b[0m\u001b[0m\n\u001b[0;32m---> 83\u001b[0;31m \u001b[0;32mfrom\u001b[0m \u001b[0mfiona\u001b[0m\u001b[0;34m.\u001b[0m\u001b[0mcollection\u001b[0m \u001b[0;32mimport\u001b[0m \u001b[0mBytesCollection\u001b[0m\u001b[0;34m,\u001b[0m \u001b[0mCollection\u001b[0m\u001b[0;34m\u001b[0m\u001b[0;34m\u001b[0m\u001b[0m\n\u001b[0m\u001b[1;32m     84\u001b[0m \u001b[0;32mfrom\u001b[0m \u001b[0mfiona\u001b[0m\u001b[0;34m.\u001b[0m\u001b[0mdrvsupport\u001b[0m \u001b[0;32mimport\u001b[0m \u001b[0msupported_drivers\u001b[0m\u001b[0;34m\u001b[0m\u001b[0;34m\u001b[0m\u001b[0m\n\u001b[1;32m     85\u001b[0m \u001b[0;32mfrom\u001b[0m \u001b[0mfiona\u001b[0m\u001b[0;34m.\u001b[0m\u001b[0menv\u001b[0m \u001b[0;32mimport\u001b[0m \u001b[0mensure_env_with_credentials\u001b[0m\u001b[0;34m,\u001b[0m \u001b[0mEnv\u001b[0m\u001b[0;34m\u001b[0m\u001b[0;34m\u001b[0m\u001b[0m\n",
      "\u001b[0;32m~/anaconda3/lib/python3.7/site-packages/fiona/collection.py\u001b[0m in \u001b[0;36m<module>\u001b[0;34m\u001b[0m\n\u001b[1;32m      7\u001b[0m \u001b[0;34m\u001b[0m\u001b[0m\n\u001b[1;32m      8\u001b[0m \u001b[0;32mfrom\u001b[0m \u001b[0mfiona\u001b[0m \u001b[0;32mimport\u001b[0m \u001b[0mcompat\u001b[0m\u001b[0;34m,\u001b[0m \u001b[0mvfs\u001b[0m\u001b[0;34m\u001b[0m\u001b[0;34m\u001b[0m\u001b[0m\n\u001b[0;32m----> 9\u001b[0;31m \u001b[0;32mfrom\u001b[0m \u001b[0mfiona\u001b[0m\u001b[0;34m.\u001b[0m\u001b[0mogrext\u001b[0m \u001b[0;32mimport\u001b[0m \u001b[0mIterator\u001b[0m\u001b[0;34m,\u001b[0m \u001b[0mItemsIterator\u001b[0m\u001b[0;34m,\u001b[0m \u001b[0mKeysIterator\u001b[0m\u001b[0;34m\u001b[0m\u001b[0;34m\u001b[0m\u001b[0m\n\u001b[0m\u001b[1;32m     10\u001b[0m \u001b[0;32mfrom\u001b[0m \u001b[0mfiona\u001b[0m\u001b[0;34m.\u001b[0m\u001b[0mogrext\u001b[0m \u001b[0;32mimport\u001b[0m \u001b[0mSession\u001b[0m\u001b[0;34m,\u001b[0m \u001b[0mWritingSession\u001b[0m\u001b[0;34m\u001b[0m\u001b[0;34m\u001b[0m\u001b[0m\n\u001b[1;32m     11\u001b[0m \u001b[0;32mfrom\u001b[0m \u001b[0mfiona\u001b[0m\u001b[0;34m.\u001b[0m\u001b[0mogrext\u001b[0m \u001b[0;32mimport\u001b[0m \u001b[0mbuffer_to_virtual_file\u001b[0m\u001b[0;34m,\u001b[0m \u001b[0mremove_virtual_file\u001b[0m\u001b[0;34m,\u001b[0m \u001b[0mGEOMETRY_TYPES\u001b[0m\u001b[0;34m\u001b[0m\u001b[0;34m\u001b[0m\u001b[0m\n",
      "\u001b[0;31mImportError\u001b[0m: dlopen(/Users/rubinbaskir/anaconda3/lib/python3.7/site-packages/fiona/ogrext.cpython-37m-darwin.so, 2): Library not loaded: @rpath/libgif.7.dylib\n  Referenced from: /Users/rubinbaskir/anaconda3/lib/libgdal.20.dylib\n  Reason: image not found"
     ]
    }
   ],
   "source": [
    "import geopandas"
   ]
  },
  {
   "cell_type": "code",
   "execution_count": 5,
   "metadata": {},
   "outputs": [
    {
     "ename": "SyntaxError",
     "evalue": "invalid syntax (<ipython-input-5-d8603f9f9bc3>, line 1)",
     "output_type": "error",
     "traceback": [
      "\u001b[0;36m  File \u001b[0;32m\"<ipython-input-5-d8603f9f9bc3>\"\u001b[0;36m, line \u001b[0;32m1\u001b[0m\n\u001b[0;31m    which python\u001b[0m\n\u001b[0m               ^\u001b[0m\n\u001b[0;31mSyntaxError\u001b[0m\u001b[0;31m:\u001b[0m invalid syntax\n"
     ]
    }
   ],
   "source": [
    "which python"
   ]
  },
  {
   "cell_type": "code",
   "execution_count": 6,
   "metadata": {},
   "outputs": [
    {
     "ename": "SyntaxError",
     "evalue": "invalid syntax (<ipython-input-6-d8603f9f9bc3>, line 1)",
     "output_type": "error",
     "traceback": [
      "\u001b[0;36m  File \u001b[0;32m\"<ipython-input-6-d8603f9f9bc3>\"\u001b[0;36m, line \u001b[0;32m1\u001b[0m\n\u001b[0;31m    which python\u001b[0m\n\u001b[0m               ^\u001b[0m\n\u001b[0;31mSyntaxError\u001b[0m\u001b[0;31m:\u001b[0m invalid syntax\n"
     ]
    }
   ],
   "source": [
    "which python\n"
   ]
  },
  {
   "cell_type": "code",
   "execution_count": 7,
   "metadata": {},
   "outputs": [
    {
     "name": "stdout",
     "output_type": "stream",
     "text": [
      "/Users/rubinbaskir/anaconda3/bin/python\n"
     ]
    }
   ],
   "source": [
    "!which python\n"
   ]
  },
  {
   "cell_type": "code",
   "execution_count": 8,
   "metadata": {},
   "outputs": [
    {
     "name": "stdout",
     "output_type": "stream",
     "text": [
      "Collecting package metadata (current_repodata.json): done\n",
      "Solving environment: failed with initial frozen solve. Retrying with flexible solve.\n",
      "Solving environment: - ^C\n",
      "failed with repodata from current_repodata.json, will retry with next repodata source.\n",
      "\n",
      "CondaError: KeyboardInterrupt\n",
      "\n",
      "\n",
      "Note: you may need to restart the kernel to use updated packages.\n"
     ]
    }
   ],
   "source": [
    "conda install -c conda-forge python=3"
   ]
  },
  {
   "cell_type": "code",
   "execution_count": 9,
   "metadata": {},
   "outputs": [
    {
     "name": "stdout",
     "output_type": "stream",
     "text": [
      "\n",
      "CommandNotFoundError: Your shell has not been properly configured to use 'conda activate'.\n",
      "To initialize your shell, run\n",
      "\n",
      "    $ conda init <SHELL_NAME>\n",
      "\n",
      "Currently supported shells are:\n",
      "  - bash\n",
      "  - fish\n",
      "  - tcsh\n",
      "  - xonsh\n",
      "  - zsh\n",
      "  - powershell\n",
      "\n",
      "See 'conda init --help' for more information and options.\n",
      "\n",
      "IMPORTANT: You may need to close and restart your shell after running 'conda init'.\n",
      "\n",
      "\n",
      "\n",
      "Note: you may need to restart the kernel to use updated packages.\n"
     ]
    }
   ],
   "source": [
    "conda activate TEST\n"
   ]
  },
  {
   "cell_type": "code",
   "execution_count": 10,
   "metadata": {},
   "outputs": [
    {
     "ename": "ImportError",
     "evalue": "dlopen(/Users/rubinbaskir/anaconda3/lib/python3.7/site-packages/fiona/ogrext.cpython-37m-darwin.so, 2): Library not loaded: @rpath/libgif.7.dylib\n  Referenced from: /Users/rubinbaskir/anaconda3/lib/libgdal.20.dylib\n  Reason: image not found",
     "output_type": "error",
     "traceback": [
      "\u001b[0;31m---------------------------------------------------------------------------\u001b[0m",
      "\u001b[0;31mImportError\u001b[0m                               Traceback (most recent call last)",
      "\u001b[0;32m<ipython-input-10-fc7d1d298f0c>\u001b[0m in \u001b[0;36m<module>\u001b[0;34m\u001b[0m\n\u001b[0;32m----> 1\u001b[0;31m \u001b[0;32mimport\u001b[0m \u001b[0mgeopandas\u001b[0m\u001b[0;34m\u001b[0m\u001b[0;34m\u001b[0m\u001b[0m\n\u001b[0m",
      "\u001b[0;32m~/anaconda3/lib/python3.7/site-packages/geopandas/__init__.py\u001b[0m in \u001b[0;36m<module>\u001b[0;34m\u001b[0m\n\u001b[1;32m      3\u001b[0m \u001b[0;32mfrom\u001b[0m \u001b[0mgeopandas\u001b[0m\u001b[0;34m.\u001b[0m\u001b[0marray\u001b[0m \u001b[0;32mimport\u001b[0m \u001b[0m_points_from_xy\u001b[0m \u001b[0;32mas\u001b[0m \u001b[0mpoints_from_xy\u001b[0m  \u001b[0;31m# noqa\u001b[0m\u001b[0;34m\u001b[0m\u001b[0;34m\u001b[0m\u001b[0m\n\u001b[1;32m      4\u001b[0m \u001b[0;34m\u001b[0m\u001b[0m\n\u001b[0;32m----> 5\u001b[0;31m \u001b[0;32mfrom\u001b[0m \u001b[0mgeopandas\u001b[0m\u001b[0;34m.\u001b[0m\u001b[0mio\u001b[0m\u001b[0;34m.\u001b[0m\u001b[0mfile\u001b[0m \u001b[0;32mimport\u001b[0m \u001b[0mread_file\u001b[0m  \u001b[0;31m# noqa\u001b[0m\u001b[0;34m\u001b[0m\u001b[0;34m\u001b[0m\u001b[0m\n\u001b[0m\u001b[1;32m      6\u001b[0m \u001b[0;32mfrom\u001b[0m \u001b[0mgeopandas\u001b[0m\u001b[0;34m.\u001b[0m\u001b[0mio\u001b[0m\u001b[0;34m.\u001b[0m\u001b[0msql\u001b[0m \u001b[0;32mimport\u001b[0m \u001b[0mread_postgis\u001b[0m  \u001b[0;31m# noqa\u001b[0m\u001b[0;34m\u001b[0m\u001b[0;34m\u001b[0m\u001b[0m\n\u001b[1;32m      7\u001b[0m \u001b[0;32mfrom\u001b[0m \u001b[0mgeopandas\u001b[0m\u001b[0;34m.\u001b[0m\u001b[0mtools\u001b[0m \u001b[0;32mimport\u001b[0m \u001b[0msjoin\u001b[0m  \u001b[0;31m# noqa\u001b[0m\u001b[0;34m\u001b[0m\u001b[0;34m\u001b[0m\u001b[0m\n",
      "\u001b[0;32m~/anaconda3/lib/python3.7/site-packages/geopandas/io/file.py\u001b[0m in \u001b[0;36m<module>\u001b[0;34m\u001b[0m\n\u001b[1;32m      4\u001b[0m \u001b[0;32mimport\u001b[0m \u001b[0msix\u001b[0m\u001b[0;34m\u001b[0m\u001b[0;34m\u001b[0m\u001b[0m\n\u001b[1;32m      5\u001b[0m \u001b[0;34m\u001b[0m\u001b[0m\n\u001b[0;32m----> 6\u001b[0;31m \u001b[0;32mimport\u001b[0m \u001b[0mfiona\u001b[0m\u001b[0;34m\u001b[0m\u001b[0;34m\u001b[0m\u001b[0m\n\u001b[0m\u001b[1;32m      7\u001b[0m \u001b[0;34m\u001b[0m\u001b[0m\n\u001b[1;32m      8\u001b[0m \u001b[0;32mfrom\u001b[0m \u001b[0mgeopandas\u001b[0m \u001b[0;32mimport\u001b[0m \u001b[0mGeoDataFrame\u001b[0m\u001b[0;34m,\u001b[0m \u001b[0mGeoSeries\u001b[0m\u001b[0;34m\u001b[0m\u001b[0;34m\u001b[0m\u001b[0m\n",
      "\u001b[0;32m~/anaconda3/lib/python3.7/site-packages/fiona/__init__.py\u001b[0m in \u001b[0;36m<module>\u001b[0;34m\u001b[0m\n\u001b[1;32m     81\u001b[0m     \u001b[0mos\u001b[0m\u001b[0;34m.\u001b[0m\u001b[0menviron\u001b[0m\u001b[0;34m[\u001b[0m\u001b[0;34m\"PATH\"\u001b[0m\u001b[0;34m]\u001b[0m \u001b[0;34m=\u001b[0m \u001b[0mos\u001b[0m\u001b[0;34m.\u001b[0m\u001b[0menviron\u001b[0m\u001b[0;34m[\u001b[0m\u001b[0;34m\"PATH\"\u001b[0m\u001b[0;34m]\u001b[0m \u001b[0;34m+\u001b[0m \u001b[0;34m\";\"\u001b[0m \u001b[0;34m+\u001b[0m \u001b[0mlibdir\u001b[0m\u001b[0;34m\u001b[0m\u001b[0;34m\u001b[0m\u001b[0m\n\u001b[1;32m     82\u001b[0m \u001b[0;34m\u001b[0m\u001b[0m\n\u001b[0;32m---> 83\u001b[0;31m \u001b[0;32mfrom\u001b[0m \u001b[0mfiona\u001b[0m\u001b[0;34m.\u001b[0m\u001b[0mcollection\u001b[0m \u001b[0;32mimport\u001b[0m \u001b[0mBytesCollection\u001b[0m\u001b[0;34m,\u001b[0m \u001b[0mCollection\u001b[0m\u001b[0;34m\u001b[0m\u001b[0;34m\u001b[0m\u001b[0m\n\u001b[0m\u001b[1;32m     84\u001b[0m \u001b[0;32mfrom\u001b[0m \u001b[0mfiona\u001b[0m\u001b[0;34m.\u001b[0m\u001b[0mdrvsupport\u001b[0m \u001b[0;32mimport\u001b[0m \u001b[0msupported_drivers\u001b[0m\u001b[0;34m\u001b[0m\u001b[0;34m\u001b[0m\u001b[0m\n\u001b[1;32m     85\u001b[0m \u001b[0;32mfrom\u001b[0m \u001b[0mfiona\u001b[0m\u001b[0;34m.\u001b[0m\u001b[0menv\u001b[0m \u001b[0;32mimport\u001b[0m \u001b[0mensure_env_with_credentials\u001b[0m\u001b[0;34m,\u001b[0m \u001b[0mEnv\u001b[0m\u001b[0;34m\u001b[0m\u001b[0;34m\u001b[0m\u001b[0m\n",
      "\u001b[0;32m~/anaconda3/lib/python3.7/site-packages/fiona/collection.py\u001b[0m in \u001b[0;36m<module>\u001b[0;34m\u001b[0m\n\u001b[1;32m      7\u001b[0m \u001b[0;34m\u001b[0m\u001b[0m\n\u001b[1;32m      8\u001b[0m \u001b[0;32mfrom\u001b[0m \u001b[0mfiona\u001b[0m \u001b[0;32mimport\u001b[0m \u001b[0mcompat\u001b[0m\u001b[0;34m,\u001b[0m \u001b[0mvfs\u001b[0m\u001b[0;34m\u001b[0m\u001b[0;34m\u001b[0m\u001b[0m\n\u001b[0;32m----> 9\u001b[0;31m \u001b[0;32mfrom\u001b[0m \u001b[0mfiona\u001b[0m\u001b[0;34m.\u001b[0m\u001b[0mogrext\u001b[0m \u001b[0;32mimport\u001b[0m \u001b[0mIterator\u001b[0m\u001b[0;34m,\u001b[0m \u001b[0mItemsIterator\u001b[0m\u001b[0;34m,\u001b[0m \u001b[0mKeysIterator\u001b[0m\u001b[0;34m\u001b[0m\u001b[0;34m\u001b[0m\u001b[0m\n\u001b[0m\u001b[1;32m     10\u001b[0m \u001b[0;32mfrom\u001b[0m \u001b[0mfiona\u001b[0m\u001b[0;34m.\u001b[0m\u001b[0mogrext\u001b[0m \u001b[0;32mimport\u001b[0m \u001b[0mSession\u001b[0m\u001b[0;34m,\u001b[0m \u001b[0mWritingSession\u001b[0m\u001b[0;34m\u001b[0m\u001b[0;34m\u001b[0m\u001b[0m\n\u001b[1;32m     11\u001b[0m \u001b[0;32mfrom\u001b[0m \u001b[0mfiona\u001b[0m\u001b[0;34m.\u001b[0m\u001b[0mogrext\u001b[0m \u001b[0;32mimport\u001b[0m \u001b[0mbuffer_to_virtual_file\u001b[0m\u001b[0;34m,\u001b[0m \u001b[0mremove_virtual_file\u001b[0m\u001b[0;34m,\u001b[0m \u001b[0mGEOMETRY_TYPES\u001b[0m\u001b[0;34m\u001b[0m\u001b[0;34m\u001b[0m\u001b[0m\n",
      "\u001b[0;31mImportError\u001b[0m: dlopen(/Users/rubinbaskir/anaconda3/lib/python3.7/site-packages/fiona/ogrext.cpython-37m-darwin.so, 2): Library not loaded: @rpath/libgif.7.dylib\n  Referenced from: /Users/rubinbaskir/anaconda3/lib/libgdal.20.dylib\n  Reason: image not found"
     ]
    }
   ],
   "source": [
    "import geopandas\n"
   ]
  },
  {
   "cell_type": "code",
   "execution_count": 11,
   "metadata": {},
   "outputs": [
    {
     "name": "stdout",
     "output_type": "stream",
     "text": [
      "usage: conda [-h] [-V] command ...\n",
      "conda: error: the following arguments are required: command\n",
      "\n",
      "Note: you may need to restart the kernel to use updated packages.\n"
     ]
    }
   ],
   "source": [
    "conda -v\n"
   ]
  },
  {
   "cell_type": "code",
   "execution_count": 12,
   "metadata": {},
   "outputs": [
    {
     "name": "stdout",
     "output_type": "stream",
     "text": [
      "conda 4.7.12\n",
      "\n",
      "Note: you may need to restart the kernel to use updated packages.\n"
     ]
    }
   ],
   "source": [
    "conda -V\n"
   ]
  },
  {
   "cell_type": "code",
   "execution_count": 13,
   "metadata": {},
   "outputs": [
    {
     "name": "stdout",
     "output_type": "stream",
     "text": [
      "Loading channels: done\n",
      "# Name                       Version           Build  Channel             \n",
      "python                         1.0.1               0  conda-forge         \n",
      "python                           1.2               0  conda-forge         \n",
      "python                           1.3               0  conda-forge         \n",
      "python                           1.4               0  conda-forge         \n",
      "python                         1.5.2               0  conda-forge         \n",
      "python                           1.6               0  conda-forge         \n",
      "python                           2.0               0  conda-forge         \n",
      "python                         2.6.9               0  conda-forge         \n",
      "python                        2.7.12               0  conda-forge         \n",
      "python                        2.7.12               1  conda-forge         \n",
      "python                        2.7.12               2  conda-forge         \n",
      "python                        2.7.13               0  conda-forge         \n",
      "python                        2.7.13               1  conda-forge         \n",
      "python                        2.7.14               0  conda-forge         \n",
      "python                        2.7.14               1  conda-forge         \n",
      "python                        2.7.14               2  conda-forge         \n",
      "python                        2.7.14               3  conda-forge         \n",
      "python                        2.7.14               4  conda-forge         \n",
      "python                        2.7.14               5  conda-forge         \n",
      "python                        2.7.15               0  conda-forge         \n",
      "python                        2.7.15      h33da82c_5  conda-forge         \n",
      "python                        2.7.15      h33da82c_6  conda-forge         \n",
      "python                        2.7.15      h43f7c74_0  conda-forge         \n",
      "python                        2.7.15   h61312e0_1003  conda-forge         \n",
      "python                        2.7.15   h61312e0_1004  conda-forge         \n",
      "python                        2.7.15   h61312e0_1005  conda-forge         \n",
      "python                        2.7.15   h61312e0_1006  conda-forge         \n",
      "python                        2.7.15   h932b40d_1008  conda-forge         \n",
      "python                        2.7.15   ha7ff966_1001  conda-forge         \n",
      "python                        2.7.15   ha7ff966_1002  conda-forge         \n",
      "python                        2.7.15   hd51d24c_1009  conda-forge         \n",
      "python                         3.4.5               0  conda-forge         \n",
      "python                         3.4.5               1  conda-forge         \n",
      "python                         3.4.5               2  conda-forge         \n",
      "python                         3.5.1               0  conda-forge         \n",
      "python                         3.5.1               1  conda-forge         \n",
      "python                         3.5.2               0  conda-forge         \n",
      "python                         3.5.2               1  conda-forge         \n",
      "python                         3.5.2               2  conda-forge         \n",
      "python                         3.5.2               3  conda-forge         \n",
      "python                         3.5.2               4  conda-forge         \n",
      "python                         3.5.2               5  conda-forge         \n",
      "python                         3.5.3               0  conda-forge         \n",
      "python                         3.5.3               1  conda-forge         \n",
      "python                         3.5.3               2  conda-forge         \n",
      "python                         3.5.3               3  conda-forge         \n",
      "python                         3.5.4               0  conda-forge         \n",
      "python                         3.5.4               1  conda-forge         \n",
      "python                         3.5.4               2  conda-forge         \n",
      "python                         3.5.4               3  conda-forge         \n",
      "python                         3.5.5               0  conda-forge         \n",
      "python                         3.5.5               1  conda-forge         \n",
      "python                         3.5.5      h5001a0f_2  conda-forge         \n",
      "python                       3.6.0a3               0  conda-forge         \n",
      "python                       3.6.0a4               0  conda-forge         \n",
      "python                       3.6.0b1               0  conda-forge         \n",
      "python                       3.6.0b2               0  conda-forge         \n",
      "python                       3.6.0b2               1  conda-forge         \n",
      "python                       3.6.0b3               0  conda-forge         \n",
      "python                       3.6.0b4               0  conda-forge         \n",
      "python                      3.6.0rc1               0  conda-forge         \n",
      "python                         3.6.0               0  conda-forge         \n",
      "python                         3.6.0               1  conda-forge         \n",
      "python                         3.6.0               2  conda-forge         \n",
      "python                         3.6.1               0  conda-forge         \n",
      "python                         3.6.1               1  conda-forge         \n",
      "python                         3.6.1               2  conda-forge         \n",
      "python                         3.6.1               3  conda-forge         \n",
      "python                         3.6.2               0  conda-forge         \n",
      "python                         3.6.3               0  conda-forge         \n",
      "python                         3.6.3               1  conda-forge         \n",
      "python                         3.6.3               3  conda-forge         \n",
      "python                         3.6.3               4  conda-forge         \n",
      "python                         3.6.4               0  conda-forge         \n",
      "python                         3.6.5               0  conda-forge         \n",
      "python                         3.6.5               1  conda-forge         \n",
      "python                         3.6.6   h4a56312_1002  conda-forge         \n",
      "python                         3.6.6   h4a56312_1003  conda-forge         \n",
      "python                         3.6.6      h5001a0f_0  conda-forge         \n",
      "python                         3.6.6   ha346fb5_1000  conda-forge         \n",
      "python                         3.6.6   ha346fb5_1001  conda-forge         \n",
      "python                         3.6.7   h4285619_1006  conda-forge         \n",
      "python                         3.6.7   h4a56312_1000  conda-forge         \n",
      "python                         3.6.7   h4a56312_1001  conda-forge         \n",
      "python                         3.6.7   h4a56312_1002  conda-forge         \n",
      "python                         3.6.7      h5001a0f_1  conda-forge         \n",
      "python                         3.6.7   h8dc6b48_1004  conda-forge         \n",
      "python                         3.6.7   h94afb7f_1005  conda-forge         \n",
      "python                         3.7.0   h145921a_1002  conda-forge         \n",
      "python                         3.7.0   h145921a_1003  conda-forge         \n",
      "python                         3.7.0   h145921a_1004  conda-forge         \n",
      "python                         3.7.0   h145921a_1005  conda-forge         \n",
      "python                         3.7.0   h145921a_1006  conda-forge         \n",
      "python                         3.7.0      h46c1a51_6  conda-forge         \n",
      "python                         3.7.0      h4eca856_0  conda-forge         \n",
      "python                         3.7.0      h4eca856_1  conda-forge         \n",
      "python                         3.7.1   h145921a_1000  conda-forge         \n",
      "python                         3.7.1      h46c1a51_0  conda-forge         \n",
      "python                         3.7.1   hbdd33cc_1002  conda-forge         \n",
      "python                         3.7.1   hbdd33cc_1003  conda-forge         \n",
      "python                         3.7.2      hbdd33cc_0  conda-forge         \n",
      "python                         3.7.3      h0d93f26_0  conda-forge         \n",
      "python                         3.7.3      h93065d6_1  conda-forge         \n",
      "python                         3.8.0      hd366da7_0  conda-forge         \n",
      "python                         3.8.0      hd366da7_1  conda-forge         \n",
      "python                         3.8.0      hd366da7_2  conda-forge         \n",
      "python                         3.8.0      hd366da7_3  conda-forge         \n",
      "python                         3.8.0      hd366da7_4  conda-forge         \n",
      "python                         3.8.0      hd366da7_5  conda-forge         \n",
      "\n",
      "Note: you may need to restart the kernel to use updated packages.\n"
     ]
    }
   ],
   "source": [
    "conda search \"^python$\""
   ]
  },
  {
   "cell_type": "code",
   "execution_count": null,
   "metadata": {},
   "outputs": [],
   "source": []
  }
 ],
 "metadata": {
  "kernelspec": {
   "display_name": "Python 3",
   "language": "python",
   "name": "python3"
  },
  "language_info": {
   "codemirror_mode": {
    "name": "ipython",
    "version": 3
   },
   "file_extension": ".py",
   "mimetype": "text/x-python",
   "name": "python",
   "nbconvert_exporter": "python",
   "pygments_lexer": "ipython3",
   "version": "3.7.5"
  }
 },
 "nbformat": 4,
 "nbformat_minor": 4
}
