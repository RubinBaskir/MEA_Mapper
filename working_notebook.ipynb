{
 "cells": [
  {
   "cell_type": "code",
   "execution_count": 1,
   "metadata": {},
   "outputs": [
    {
     "ename": "SyntaxError",
     "evalue": "invalid syntax (<ipython-input-1-1b76e4c4a6e3>, line 1)",
     "output_type": "error",
     "traceback": [
      "\u001b[0;36m  File \u001b[0;32m\"<ipython-input-1-1b76e4c4a6e3>\"\u001b[0;36m, line \u001b[0;32m1\u001b[0m\n\u001b[0;31m    activate conda TEST\u001b[0m\n\u001b[0m                 ^\u001b[0m\n\u001b[0;31mSyntaxError\u001b[0m\u001b[0;31m:\u001b[0m invalid syntax\n"
     ]
    }
   ],
   "source": [
    "activate conda TEST"
   ]
  },
  {
   "cell_type": "code",
   "execution_count": 2,
   "metadata": {},
   "outputs": [
    {
     "name": "stdout",
     "output_type": "stream",
     "text": [
      "# packages in environment at /Users/rubinbaskir/anaconda3:\n",
      "#\n",
      "# Name                    Version                   Build  Channel\n",
      "_anaconda_depends         2019.03                  py37_0  \n",
      "_ipyw_jlab_nb_ext_conf    0.1.0                    py37_0  \n",
      "alabaster                 0.7.12                   py37_0  \n",
      "anaconda                  custom                   py37_1  \n",
      "anaconda-client           1.7.2                    py37_0  \n",
      "anaconda-navigator        1.9.7                    py37_0  \n",
      "anaconda-project          0.8.3                      py_0  \n",
      "appnope                   0.1.0                    py37_0  \n",
      "appscript                 1.1.0            py37h1de35cc_0  \n",
      "asn1crypto                0.24.0                   py37_0  \n",
      "astroid                   2.2.5                    py37_0  \n",
      "astropy                   3.2.1            py37h1de35cc_0  \n",
      "atomicwrites              1.3.0                    py37_1  \n",
      "attrs                     19.1.0                   py37_1  \n",
      "babel                     2.7.0                      py_0  \n",
      "backcall                  0.1.0                    py37_0  \n",
      "backports                 1.0                        py_2  \n",
      "backports.functools_lru_cache 1.5                        py_2  \n",
      "backports.os              0.1.1                    py37_0  \n",
      "backports.shutil_get_terminal_size 1.0.0                    py37_2  \n",
      "backports.tempfile        1.0                        py_1  \n",
      "backports.weakref         1.0.post1                  py_1  \n",
      "beautifulsoup4            4.7.1                    py37_1  \n",
      "bitarray                  0.9.3            py37h1de35cc_0  \n",
      "bkcharts                  0.2                      py37_0  \n",
      "blas                      1.0                         mkl  \n",
      "bleach                    3.1.0                    py37_0  \n",
      "blosc                     1.16.3               hd9629dc_0  \n",
      "bokeh                     1.2.0                    py37_0  \n",
      "boost-cpp                 1.70.0               hd59e818_1    conda-forge\n",
      "boto                      2.49.0                   py37_0  \n",
      "bottleneck                1.2.1            py37h1d22016_1  \n",
      "bzip2                     1.0.8                h1de35cc_0  \n",
      "ca-certificates           2019.9.11            hecc5488_0    conda-forge\n",
      "cairo                     1.14.12           h9d4d9ac_1005    conda-forge\n",
      "certifi                   2019.9.11                py37_0    conda-forge\n",
      "cffi                      1.12.3           py37hb5b8e2f_0  \n",
      "chardet                   3.0.4                    py37_1  \n",
      "click                     7.0                      py37_0  \n",
      "click-plugins             1.1.1                      py_0    conda-forge\n",
      "cligj                     0.5.0                      py_0    conda-forge\n",
      "cloudpickle               1.2.1                      py_0  \n",
      "clyent                    1.2.2                    py37_1  \n",
      "colorama                  0.4.1                    py37_0  \n",
      "conda                     4.7.12                   py37_0    conda-forge\n",
      "conda-build               3.18.8                   py37_0  \n",
      "conda-env                 2.6.0                         1  \n",
      "conda-package-handling    1.3.11                   py37_0  \n",
      "conda-verify              3.4.2                      py_1  \n",
      "contextlib2               0.5.5                    py37_0  \n",
      "cryptography              2.7              py37ha12b0ac_0  \n",
      "curl                      7.65.2               ha441bb4_0  \n",
      "cycler                    0.10.0                   py37_0  \n",
      "cython                    0.29.12          py37h0a44026_0  \n",
      "cytoolz                   0.10.0           py37h1de35cc_0  \n",
      "dask                      2.1.0                      py_0  \n",
      "dask-core                 2.1.0                      py_0  \n",
      "dbus                      1.13.6               h90a0687_0  \n",
      "decorator                 4.4.0                    py37_1  \n",
      "defusedxml                0.6.0                      py_0  \n",
      "distributed               2.1.0                      py_0  \n",
      "docutils                  0.14                     py37_0  \n",
      "entrypoints               0.3                      py37_0  \n",
      "et_xmlfile                1.0.1                    py37_0  \n",
      "expat                     2.2.6                h0a44026_0  \n",
      "fastcache                 1.1.0            py37h1de35cc_0  \n",
      "filelock                  3.0.12                     py_0  \n",
      "fiona                     1.8.4           py37h8e9a8e4_1001    conda-forge\n",
      "flask                     1.1.1                      py_0  \n",
      "fontconfig                2.13.1            h1027ab8_1000    conda-forge\n",
      "freetype                  2.9.1                hb4e5f40_0  \n",
      "freexl                    1.0.5             h1de35cc_1002    conda-forge\n",
      "future                    0.17.1                   py37_0  \n",
      "gdal                      2.3.3            py37hbe65578_0  \n",
      "geopandas                 0.6.2                      py_0    conda-forge\n",
      "geos                      3.7.1             h0a44026_1000    conda-forge\n",
      "get_terminal_size         1.0.0                h7520d66_0  \n",
      "gettext                   0.19.8.1             h15daf44_3  \n",
      "gevent                    1.4.0            py37h1de35cc_0  \n",
      "giflib                    5.1.7                h01d97ff_1    conda-forge\n",
      "glib                      2.56.2               hd9629dc_0  \n",
      "glob2                     0.7                        py_0  \n",
      "gmp                       6.1.2                hb37e062_1  \n",
      "gmpy2                     2.0.8            py37h6ef4df4_2  \n",
      "greenlet                  0.4.15           py37h1de35cc_0  \n",
      "h5py                      2.9.0            py37h3134771_0  \n",
      "hdf4                      4.2.13                        0    conda-forge\n",
      "hdf5                      1.10.4               hfa1e0ec_0  \n",
      "heapdict                  1.0.0                    py37_2  \n",
      "html5lib                  1.0.1                    py37_0  \n",
      "icu                       58.2                 h4b95b61_1  \n",
      "idna                      2.8                      py37_0  \n",
      "imageio                   2.5.0                    py37_0  \n",
      "imagesize                 1.1.0                    py37_0  \n",
      "importlib_metadata        0.17                     py37_1  \n",
      "intel-openmp              2019.4                      233  \n",
      "ipykernel                 5.1.1            py37h39e3cac_0  \n",
      "ipython                   7.6.1            py37h39e3cac_0  \n",
      "ipython_genutils          0.2.0                    py37_0  \n",
      "ipywidgets                7.5.0                      py_0  \n",
      "isort                     4.3.21                   py37_0  \n",
      "itsdangerous              1.1.0                    py37_0  \n",
      "jbig                      2.1                  h4d881f8_0  \n",
      "jdcal                     1.4.1                      py_0  \n",
      "jedi                      0.13.3                   py37_0  \n",
      "jinja2                    2.10.1                   py37_0  \n",
      "joblib                    0.13.2                   py37_0  \n",
      "jpeg                      9b                   he5867d9_2  \n",
      "json-c                    0.13.1            h1de35cc_1001    conda-forge\n",
      "json5                     0.8.4                      py_0  \n",
      "jsonschema                3.0.1                    py37_0  \n",
      "jupyter                   1.0.0                    py37_7  \n",
      "jupyter_client            5.3.1                      py_0  \n",
      "jupyter_console           6.0.0                    py37_0  \n",
      "jupyter_core              4.5.0                      py_0  \n",
      "jupyterlab                1.0.2            py37hf63ae98_0  \n",
      "jupyterlab_server         1.0.0                      py_0  \n",
      "kealib                    1.4.10            hecf890f_1003    conda-forge\n",
      "keyring                   18.0.0                   py37_0  \n",
      "kiwisolver                1.1.0            py37h0a44026_0  \n",
      "krb5                      1.16.1               hddcf347_7  \n",
      "lazy-object-proxy         1.4.1            py37h1de35cc_0  \n",
      "libarchive                3.3.3                h786848e_5  \n",
      "libcurl                   7.65.2               h051b688_0  \n",
      "libcxx                    4.0.1                hcfea43d_1  \n",
      "libcxxabi                 4.0.1                hcfea43d_1  \n",
      "libdap4                   3.19.1            hae55d67_1000    conda-forge\n",
      "libedit                   3.1.20181209         hb402a30_0  \n",
      "libffi                    3.2.1                h475c297_4  \n",
      "libgdal                   2.3.3                h0950a36_0  \n",
      "libgfortran               3.0.1                h93005f0_2  \n",
      "libiconv                  1.15                 hdd342a3_7  \n",
      "libkml                    1.3.0             hed7d534_1010    conda-forge\n",
      "liblief                   0.9.0                h2a1bed3_2  \n",
      "libnetcdf                 4.6.1                hd5207e6_2  \n",
      "libpng                    1.6.37               ha441bb4_0  \n",
      "libpq                     11.2                 h051b688_0  \n",
      "libsodium                 1.0.16               h3efe00b_0  \n",
      "libspatialindex           1.8.5                h6de7cb9_4    conda-forge\n",
      "libspatialite             4.3.0a            h0cd9627_1026    conda-forge\n",
      "libssh2                   1.8.2                ha12b0ac_0  \n",
      "libtiff                   4.0.10               hcb84e12_2  \n",
      "libxml2                   2.9.9                hf6e021a_1  \n",
      "libxslt                   1.1.33               h33a18ac_0  \n",
      "llvm-openmp               4.0.1                hcfea43d_1  \n",
      "llvmlite                  0.29.0           py37h98b8051_0  \n",
      "locket                    0.2.0                    py37_1  \n",
      "lxml                      4.3.4            py37hef8c89e_0  \n",
      "lz4-c                     1.8.1.2              h1de35cc_0  \n",
      "lzo                       2.10                 h362108e_2  \n",
      "markupsafe                1.1.1            py37h1de35cc_0  \n",
      "matplotlib                3.1.0            py37h54f8f79_0  \n",
      "mccabe                    0.6.1                    py37_1  \n",
      "mistune                   0.8.4            py37h1de35cc_0  \n",
      "mkl                       2019.4                      233  \n",
      "mkl-service               2.0.2            py37h1de35cc_0  \n",
      "mkl_fft                   1.0.12           py37h5e564d8_0  \n",
      "mkl_random                1.0.2            py37h27c97d8_0  \n",
      "mock                      3.0.5                    py37_0  \n",
      "more-itertools            7.0.0                    py37_0  \n",
      "mpc                       1.1.0                h6ef4df4_1  \n",
      "mpfr                      4.0.1                h3018a27_3  \n",
      "mpmath                    1.1.0                    py37_0  \n",
      "msgpack-python            0.6.1            py37h04f5b5a_1  \n",
      "multipledispatch          0.6.0                    py37_0  \n",
      "munch                     2.5.0                      py_0    conda-forge\n",
      "navigator-updater         0.2.1                    py37_0  \n",
      "nbconvert                 5.5.0                      py_0  \n",
      "nbformat                  4.4.0                    py37_0  \n",
      "ncurses                   6.1                  h0a44026_1  \n",
      "networkx                  2.3                        py_0  \n",
      "nltk                      3.4.4                    py37_0  \n",
      "nose                      1.3.7                    py37_2  \n",
      "notebook                  6.0.0                    py37_0  \n",
      "numba                     0.44.1           py37h6440ff4_0  \n",
      "numexpr                   2.6.9            py37h7413580_0  \n",
      "numpy                     1.16.4           py37hacdab7b_0  \n",
      "numpy-base                1.16.4           py37h6575580_0  \n",
      "numpydoc                  0.9.1                      py_0  \n",
      "olefile                   0.46                     py37_0  \n",
      "openjpeg                  2.3.1                hdc36067_1    conda-forge\n",
      "openpyxl                  2.6.2                      py_0  \n",
      "openssl                   1.1.1d               h0b31af3_0    conda-forge\n",
      "packaging                 19.0                     py37_0  \n",
      "pandas                    0.24.2           py37h0a44026_0  \n",
      "pandoc                    2.2.3.2                       0  \n",
      "pandocfilters             1.4.2                    py37_1  \n",
      "parso                     0.5.0                      py_0  \n",
      "partd                     1.0.0                      py_0  \n",
      "path.py                   12.0.1                     py_0  \n",
      "pathlib2                  2.3.4                    py37_0  \n",
      "patsy                     0.5.1                    py37_0  \n",
      "pcre                      8.43                 h0a44026_0  \n",
      "pep8                      1.7.1                    py37_0  \n",
      "pexpect                   4.7.0                    py37_0  \n",
      "pickleshare               0.7.5                    py37_0  \n",
      "pillow                    6.1.0            py37hb68e598_0  \n",
      "pip                       19.1.1                   py37_0  \n",
      "pixman                    0.34.0            h1de35cc_1003    conda-forge\n",
      "pkginfo                   1.5.0.1                  py37_0  \n",
      "pluggy                    0.12.0                     py_0  \n",
      "ply                       3.11                     py37_0  \n",
      "poppler                   0.65.0               ha097c24_1  \n",
      "poppler-data              0.4.9                         1    conda-forge\n",
      "proj4                     5.2.0             h6de7cb9_1006    conda-forge\n",
      "prometheus_client         0.7.1                      py_0  \n",
      "prompt_toolkit            2.0.9                    py37_0  \n",
      "psutil                    5.6.3            py37h1de35cc_0  \n",
      "ptyprocess                0.6.0                    py37_0  \n",
      "py                        1.8.0                    py37_0  \n",
      "py-lief                   0.9.0            py37h1413db1_2  \n",
      "pycodestyle               2.5.0                    py37_0  \n",
      "pycosat                   0.6.3            py37h1de35cc_0  \n",
      "pycparser                 2.19                     py37_0  \n",
      "pycrypto                  2.6.1            py37h1de35cc_9  \n",
      "pycurl                    7.43.0.3         py37ha12b0ac_0  \n",
      "pyflakes                  2.1.1                    py37_0  \n",
      "pygments                  2.4.2                      py_0  \n",
      "pylint                    2.3.1                    py37_0  \n",
      "pyodbc                    4.0.26           py37h0a44026_0  \n",
      "pyopenssl                 19.0.0                   py37_0  \n",
      "pyparsing                 2.4.0                      py_0  \n",
      "pyproj                    1.9.6           py37h0b31af3_1002    conda-forge\n",
      "pyqt                      5.9.2            py37h655552a_2  \n",
      "pyrsistent                0.14.11          py37h1de35cc_0  \n",
      "pysocks                   1.7.0                    py37_0  \n",
      "pytables                  3.5.2            py37h5bccee9_1  \n",
      "pytest                    5.0.1                    py37_0  \n",
      "pytest-arraydiff          0.3              py37h39e3cac_0  \n",
      "pytest-astropy            0.5.0                    py37_0  \n",
      "pytest-doctestplus        0.3.0                    py37_0  \n",
      "pytest-openfiles          0.3.2                    py37_0  \n",
      "pytest-remotedata         0.3.1                    py37_0  \n",
      "python                    3.7.3                h359304d_0  \n",
      "python-dateutil           2.8.0                    py37_0  \n",
      "python-libarchive-c       2.8                     py37_11  \n",
      "python.app                2                        py37_9  \n",
      "pytz                      2019.1                     py_0  \n",
      "pywavelets                1.0.3            py37h1d22016_1  \n",
      "pyyaml                    5.1.1            py37h1de35cc_0  \n",
      "pyzmq                     18.0.0           py37h0a44026_0  \n",
      "qt                        5.9.7                h468cd18_1  \n",
      "qtawesome                 0.5.7                    py37_1  \n",
      "qtconsole                 4.5.1                      py_0  \n",
      "qtpy                      1.8.0                      py_0  \n",
      "readline                  7.0                  h1de35cc_5  \n",
      "requests                  2.22.0                   py37_0  \n",
      "rope                      0.14.0                     py_0  \n",
      "rtree                     0.8.3                    py37_0  \n",
      "ruamel_yaml               0.15.46          py37h1de35cc_0  \n",
      "scikit-image              0.15.0           py37h0a44026_0  \n",
      "scikit-learn              0.21.2           py37h27c97d8_0  \n",
      "scipy                     1.3.0            py37h1410ff5_0  \n",
      "seaborn                   0.9.0                    py37_0  \n",
      "send2trash                1.5.0                    py37_0  \n",
      "setuptools                41.0.1                   py37_0  \n",
      "shapely                   1.6.4           py37h79c6f3e_1005    conda-forge\n",
      "simplegeneric             0.8.1                    py37_2  \n",
      "singledispatch            3.4.0.3                  py37_0  \n",
      "sip                       4.19.8           py37h0a44026_0  \n",
      "six                       1.12.0                   py37_0  \n",
      "snappy                    1.1.7                he62c110_3  \n",
      "snowballstemmer           1.9.0                      py_0  \n",
      "sortedcollections         1.1.2                    py37_0  \n",
      "sortedcontainers          2.1.0                    py37_0  \n",
      "soupsieve                 1.8                      py37_0  \n",
      "sphinx                    2.1.2                      py_0  \n",
      "sphinxcontrib             1.0                      py37_1  \n",
      "sphinxcontrib-applehelp   1.0.1                      py_0  \n",
      "sphinxcontrib-devhelp     1.0.1                      py_0  \n",
      "sphinxcontrib-htmlhelp    1.0.2                      py_0  \n",
      "sphinxcontrib-jsmath      1.0.1                      py_0  \n",
      "sphinxcontrib-qthelp      1.0.2                      py_0  \n",
      "sphinxcontrib-serializinghtml 1.1.3                      py_0  \n",
      "sphinxcontrib-websupport  1.1.2                      py_0  \n",
      "spyder                    3.3.6                    py37_0  \n",
      "spyder-kernels            0.5.1                    py37_0  \n",
      "sqlalchemy                1.3.5            py37h1de35cc_0  \n",
      "sqlite                    3.29.0               ha441bb4_0  \n",
      "statsmodels               0.10.0           py37h1d22016_0  \n",
      "sympy                     1.4                      py37_0  \n",
      "tbb                       2018.0.5             h2d50403_0    conda-forge\n",
      "tblib                     1.4.0                      py_0  \n",
      "terminado                 0.8.2                    py37_0  \n",
      "testpath                  0.4.2                    py37_0  \n",
      "tk                        8.6.8                ha441bb4_0  \n",
      "toolz                     0.10.0                     py_0  \n",
      "tornado                   6.0.3            py37h1de35cc_0  \n",
      "tqdm                      4.32.1                     py_0  \n",
      "traitlets                 4.3.2                    py37_0  \n",
      "unicodecsv                0.14.1                   py37_0  \n",
      "unixodbc                  2.3.7                h1de35cc_0  \n",
      "urllib3                   1.24.2                   py37_0  \n",
      "wcwidth                   0.1.7                    py37_0  \n",
      "webencodings              0.5.1                    py37_1  \n",
      "werkzeug                  0.15.4                     py_0  \n",
      "wheel                     0.33.4                   py37_0  \n",
      "widgetsnbextension        3.5.0                    py37_0  \n",
      "wrapt                     1.11.2           py37h1de35cc_0  \n",
      "wurlitzer                 1.0.2                    py37_0  \n",
      "xerces-c                  3.2.2             h4db8090_1003    conda-forge\n",
      "xlrd                      1.2.0                    py37_0  \n",
      "xlsxwriter                1.1.8                      py_0  \n",
      "xlwings                   0.15.8                   py37_0  \n",
      "xlwt                      1.3.0                    py37_0  \n",
      "xz                        5.2.4                h1de35cc_4  \n",
      "yaml                      0.1.7                hc338f04_2  \n",
      "zeromq                    4.3.1                h0a44026_3  \n",
      "zict                      1.0.0                      py_0  \n",
      "zipp                      0.5.1                      py_0  \n",
      "zlib                      1.2.11               h1de35cc_3  \n",
      "zstd                      1.3.7                h5bba6e5_0  \n",
      "\n",
      "Note: you may need to restart the kernel to use updated packages.\n"
     ]
    }
   ],
   "source": [
    "conda list"
   ]
  },
  {
   "cell_type": "code",
   "execution_count": 3,
   "metadata": {},
   "outputs": [
    {
     "name": "stdout",
     "output_type": "stream",
     "text": [
      "# conda environments:\n",
      "#\n",
      "base                  *  /Users/rubinbaskir/anaconda3\n",
      "TEST                     /Users/rubinbaskir/anaconda3/envs/TEST\n",
      "geo_env                  /Users/rubinbaskir/anaconda3/envs/geo_env\n",
      "my_awesome_package       /Users/rubinbaskir/anaconda3/envs/my_awesome_package\n",
      "myenv                    /Users/rubinbaskir/anaconda3/envs/myenv\n",
      "\n"
     ]
    }
   ],
   "source": [
    "!conda env list"
   ]
  },
  {
   "cell_type": "code",
   "execution_count": 4,
   "metadata": {},
   "outputs": [
    {
     "name": "stdout",
     "output_type": "stream",
     "text": [
      "python is /Users/rubinbaskir/anaconda3/bin/python\n"
     ]
    }
   ],
   "source": [
    "!type python"
   ]
  },
  {
   "cell_type": "code",
   "execution_count": 5,
   "metadata": {},
   "outputs": [
    {
     "ename": "ImportError",
     "evalue": "dlopen(/Users/rubinbaskir/anaconda3/lib/python3.7/site-packages/fiona/ogrext.cpython-37m-darwin.so, 2): Library not loaded: @rpath/libgif.7.dylib\n  Referenced from: /Users/rubinbaskir/anaconda3/lib/libgdal.20.dylib\n  Reason: image not found",
     "output_type": "error",
     "traceback": [
      "\u001b[0;31m---------------------------------------------------------------------------\u001b[0m",
      "\u001b[0;31mImportError\u001b[0m                               Traceback (most recent call last)",
      "\u001b[0;32m<ipython-input-5-fc7d1d298f0c>\u001b[0m in \u001b[0;36m<module>\u001b[0;34m\u001b[0m\n\u001b[0;32m----> 1\u001b[0;31m \u001b[0;32mimport\u001b[0m \u001b[0mgeopandas\u001b[0m\u001b[0;34m\u001b[0m\u001b[0;34m\u001b[0m\u001b[0m\n\u001b[0m",
      "\u001b[0;32m~/anaconda3/lib/python3.7/site-packages/geopandas/__init__.py\u001b[0m in \u001b[0;36m<module>\u001b[0;34m\u001b[0m\n\u001b[1;32m      3\u001b[0m \u001b[0;32mfrom\u001b[0m \u001b[0mgeopandas\u001b[0m\u001b[0;34m.\u001b[0m\u001b[0marray\u001b[0m \u001b[0;32mimport\u001b[0m \u001b[0m_points_from_xy\u001b[0m \u001b[0;32mas\u001b[0m \u001b[0mpoints_from_xy\u001b[0m  \u001b[0;31m# noqa\u001b[0m\u001b[0;34m\u001b[0m\u001b[0;34m\u001b[0m\u001b[0m\n\u001b[1;32m      4\u001b[0m \u001b[0;34m\u001b[0m\u001b[0m\n\u001b[0;32m----> 5\u001b[0;31m \u001b[0;32mfrom\u001b[0m \u001b[0mgeopandas\u001b[0m\u001b[0;34m.\u001b[0m\u001b[0mio\u001b[0m\u001b[0;34m.\u001b[0m\u001b[0mfile\u001b[0m \u001b[0;32mimport\u001b[0m \u001b[0mread_file\u001b[0m  \u001b[0;31m# noqa\u001b[0m\u001b[0;34m\u001b[0m\u001b[0;34m\u001b[0m\u001b[0m\n\u001b[0m\u001b[1;32m      6\u001b[0m \u001b[0;32mfrom\u001b[0m \u001b[0mgeopandas\u001b[0m\u001b[0;34m.\u001b[0m\u001b[0mio\u001b[0m\u001b[0;34m.\u001b[0m\u001b[0msql\u001b[0m \u001b[0;32mimport\u001b[0m \u001b[0mread_postgis\u001b[0m  \u001b[0;31m# noqa\u001b[0m\u001b[0;34m\u001b[0m\u001b[0;34m\u001b[0m\u001b[0m\n\u001b[1;32m      7\u001b[0m \u001b[0;32mfrom\u001b[0m \u001b[0mgeopandas\u001b[0m\u001b[0;34m.\u001b[0m\u001b[0mtools\u001b[0m \u001b[0;32mimport\u001b[0m \u001b[0msjoin\u001b[0m  \u001b[0;31m# noqa\u001b[0m\u001b[0;34m\u001b[0m\u001b[0;34m\u001b[0m\u001b[0m\n",
      "\u001b[0;32m~/anaconda3/lib/python3.7/site-packages/geopandas/io/file.py\u001b[0m in \u001b[0;36m<module>\u001b[0;34m\u001b[0m\n\u001b[1;32m      4\u001b[0m \u001b[0;32mimport\u001b[0m \u001b[0msix\u001b[0m\u001b[0;34m\u001b[0m\u001b[0;34m\u001b[0m\u001b[0m\n\u001b[1;32m      5\u001b[0m \u001b[0;34m\u001b[0m\u001b[0m\n\u001b[0;32m----> 6\u001b[0;31m \u001b[0;32mimport\u001b[0m \u001b[0mfiona\u001b[0m\u001b[0;34m\u001b[0m\u001b[0;34m\u001b[0m\u001b[0m\n\u001b[0m\u001b[1;32m      7\u001b[0m \u001b[0;34m\u001b[0m\u001b[0m\n\u001b[1;32m      8\u001b[0m \u001b[0;32mfrom\u001b[0m \u001b[0mgeopandas\u001b[0m \u001b[0;32mimport\u001b[0m \u001b[0mGeoDataFrame\u001b[0m\u001b[0;34m,\u001b[0m \u001b[0mGeoSeries\u001b[0m\u001b[0;34m\u001b[0m\u001b[0;34m\u001b[0m\u001b[0m\n",
      "\u001b[0;32m~/anaconda3/lib/python3.7/site-packages/fiona/__init__.py\u001b[0m in \u001b[0;36m<module>\u001b[0;34m\u001b[0m\n\u001b[1;32m     81\u001b[0m     \u001b[0mos\u001b[0m\u001b[0;34m.\u001b[0m\u001b[0menviron\u001b[0m\u001b[0;34m[\u001b[0m\u001b[0;34m\"PATH\"\u001b[0m\u001b[0;34m]\u001b[0m \u001b[0;34m=\u001b[0m \u001b[0mos\u001b[0m\u001b[0;34m.\u001b[0m\u001b[0menviron\u001b[0m\u001b[0;34m[\u001b[0m\u001b[0;34m\"PATH\"\u001b[0m\u001b[0;34m]\u001b[0m \u001b[0;34m+\u001b[0m \u001b[0;34m\";\"\u001b[0m \u001b[0;34m+\u001b[0m \u001b[0mlibdir\u001b[0m\u001b[0;34m\u001b[0m\u001b[0;34m\u001b[0m\u001b[0m\n\u001b[1;32m     82\u001b[0m \u001b[0;34m\u001b[0m\u001b[0m\n\u001b[0;32m---> 83\u001b[0;31m \u001b[0;32mfrom\u001b[0m \u001b[0mfiona\u001b[0m\u001b[0;34m.\u001b[0m\u001b[0mcollection\u001b[0m \u001b[0;32mimport\u001b[0m \u001b[0mBytesCollection\u001b[0m\u001b[0;34m,\u001b[0m \u001b[0mCollection\u001b[0m\u001b[0;34m\u001b[0m\u001b[0;34m\u001b[0m\u001b[0m\n\u001b[0m\u001b[1;32m     84\u001b[0m \u001b[0;32mfrom\u001b[0m \u001b[0mfiona\u001b[0m\u001b[0;34m.\u001b[0m\u001b[0mdrvsupport\u001b[0m \u001b[0;32mimport\u001b[0m \u001b[0msupported_drivers\u001b[0m\u001b[0;34m\u001b[0m\u001b[0;34m\u001b[0m\u001b[0m\n\u001b[1;32m     85\u001b[0m \u001b[0;32mfrom\u001b[0m \u001b[0mfiona\u001b[0m\u001b[0;34m.\u001b[0m\u001b[0menv\u001b[0m \u001b[0;32mimport\u001b[0m \u001b[0mensure_env_with_credentials\u001b[0m\u001b[0;34m,\u001b[0m \u001b[0mEnv\u001b[0m\u001b[0;34m\u001b[0m\u001b[0;34m\u001b[0m\u001b[0m\n",
      "\u001b[0;32m~/anaconda3/lib/python3.7/site-packages/fiona/collection.py\u001b[0m in \u001b[0;36m<module>\u001b[0;34m\u001b[0m\n\u001b[1;32m      7\u001b[0m \u001b[0;34m\u001b[0m\u001b[0m\n\u001b[1;32m      8\u001b[0m \u001b[0;32mfrom\u001b[0m \u001b[0mfiona\u001b[0m \u001b[0;32mimport\u001b[0m \u001b[0mcompat\u001b[0m\u001b[0;34m,\u001b[0m \u001b[0mvfs\u001b[0m\u001b[0;34m\u001b[0m\u001b[0;34m\u001b[0m\u001b[0m\n\u001b[0;32m----> 9\u001b[0;31m \u001b[0;32mfrom\u001b[0m \u001b[0mfiona\u001b[0m\u001b[0;34m.\u001b[0m\u001b[0mogrext\u001b[0m \u001b[0;32mimport\u001b[0m \u001b[0mIterator\u001b[0m\u001b[0;34m,\u001b[0m \u001b[0mItemsIterator\u001b[0m\u001b[0;34m,\u001b[0m \u001b[0mKeysIterator\u001b[0m\u001b[0;34m\u001b[0m\u001b[0;34m\u001b[0m\u001b[0m\n\u001b[0m\u001b[1;32m     10\u001b[0m \u001b[0;32mfrom\u001b[0m \u001b[0mfiona\u001b[0m\u001b[0;34m.\u001b[0m\u001b[0mogrext\u001b[0m \u001b[0;32mimport\u001b[0m \u001b[0mSession\u001b[0m\u001b[0;34m,\u001b[0m \u001b[0mWritingSession\u001b[0m\u001b[0;34m\u001b[0m\u001b[0;34m\u001b[0m\u001b[0m\n\u001b[1;32m     11\u001b[0m \u001b[0;32mfrom\u001b[0m \u001b[0mfiona\u001b[0m\u001b[0;34m.\u001b[0m\u001b[0mogrext\u001b[0m \u001b[0;32mimport\u001b[0m \u001b[0mbuffer_to_virtual_file\u001b[0m\u001b[0;34m,\u001b[0m \u001b[0mremove_virtual_file\u001b[0m\u001b[0;34m,\u001b[0m \u001b[0mGEOMETRY_TYPES\u001b[0m\u001b[0;34m\u001b[0m\u001b[0;34m\u001b[0m\u001b[0m\n",
      "\u001b[0;31mImportError\u001b[0m: dlopen(/Users/rubinbaskir/anaconda3/lib/python3.7/site-packages/fiona/ogrext.cpython-37m-darwin.so, 2): Library not loaded: @rpath/libgif.7.dylib\n  Referenced from: /Users/rubinbaskir/anaconda3/lib/libgdal.20.dylib\n  Reason: image not found"
     ]
    }
   ],
   "source": [
    "import geopandas"
   ]
  },
  {
   "cell_type": "code",
   "execution_count": 6,
   "metadata": {},
   "outputs": [
    {
     "name": "stdout",
     "output_type": "stream",
     "text": [
      "# conda environments:\n",
      "#\n",
      "base                  *  /Users/rubinbaskir/anaconda3\n",
      "TEST                     /Users/rubinbaskir/anaconda3/envs/TEST\n",
      "geo_env                  /Users/rubinbaskir/anaconda3/envs/geo_env\n",
      "my_awesome_package       /Users/rubinbaskir/anaconda3/envs/my_awesome_package\n",
      "myenv                    /Users/rubinbaskir/anaconda3/envs/myenv\n",
      "\n"
     ]
    }
   ],
   "source": [
    "!conda env list"
   ]
  },
  {
   "cell_type": "code",
   "execution_count": 7,
   "metadata": {},
   "outputs": [
    {
     "name": "stdout",
     "output_type": "stream",
     "text": [
      "Collecting package metadata (current_repodata.json): done\n",
      "Solving environment: failed with initial frozen solve. Retrying with flexible solve.\n",
      "Solving environment: failed with repodata from current_repodata.json, will retry with next repodata source.\n",
      "Collecting package metadata (repodata.json): done\n",
      "Solving environment: | ^C\n",
      "failed with initial frozen solve. Retrying with flexible solve.\n",
      "\n",
      "CondaError: KeyboardInterrupt\n",
      "\n",
      "\n",
      "Note: you may need to restart the kernel to use updated packages.\n"
     ]
    }
   ],
   "source": [
    "conda install nb_conda"
   ]
  },
  {
   "cell_type": "code",
   "execution_count": 3,
   "metadata": {},
   "outputs": [],
   "source": [
    "import geopandas"
   ]
  },
  {
   "cell_type": "code",
   "execution_count": 4,
   "metadata": {},
   "outputs": [],
   "source": [
    "import matplotlib"
   ]
  },
  {
   "cell_type": "code",
   "execution_count": 5,
   "metadata": {},
   "outputs": [],
   "source": [
    "import descartes"
   ]
  },
  {
   "cell_type": "code",
   "execution_count": 6,
   "metadata": {},
   "outputs": [],
   "source": [
    "world = geopandas.read_file(geopandas.datasets.get_path('naturalearth_lowres'))"
   ]
  },
  {
   "cell_type": "code",
   "execution_count": 7,
   "metadata": {},
   "outputs": [],
   "source": [
    "cities = geopandas.read_file(geopandas.datasets.get_path('naturalearth_cities'))"
   ]
  },
  {
   "cell_type": "code",
   "execution_count": 8,
   "metadata": {},
   "outputs": [
    {
     "data": {
      "text/html": [
       "<div>\n",
       "<style scoped>\n",
       "    .dataframe tbody tr th:only-of-type {\n",
       "        vertical-align: middle;\n",
       "    }\n",
       "\n",
       "    .dataframe tbody tr th {\n",
       "        vertical-align: top;\n",
       "    }\n",
       "\n",
       "    .dataframe thead th {\n",
       "        text-align: right;\n",
       "    }\n",
       "</style>\n",
       "<table border=\"1\" class=\"dataframe\">\n",
       "  <thead>\n",
       "    <tr style=\"text-align: right;\">\n",
       "      <th></th>\n",
       "      <th>pop_est</th>\n",
       "      <th>continent</th>\n",
       "      <th>name</th>\n",
       "      <th>iso_a3</th>\n",
       "      <th>gdp_md_est</th>\n",
       "      <th>geometry</th>\n",
       "    </tr>\n",
       "  </thead>\n",
       "  <tbody>\n",
       "    <tr>\n",
       "      <th>0</th>\n",
       "      <td>920938</td>\n",
       "      <td>Oceania</td>\n",
       "      <td>Fiji</td>\n",
       "      <td>FJI</td>\n",
       "      <td>8374.0</td>\n",
       "      <td>MULTIPOLYGON (((180.00000 -16.06713, 180.00000...</td>\n",
       "    </tr>\n",
       "    <tr>\n",
       "      <th>1</th>\n",
       "      <td>53950935</td>\n",
       "      <td>Africa</td>\n",
       "      <td>Tanzania</td>\n",
       "      <td>TZA</td>\n",
       "      <td>150600.0</td>\n",
       "      <td>POLYGON ((33.90371 -0.95000, 34.07262 -1.05982...</td>\n",
       "    </tr>\n",
       "    <tr>\n",
       "      <th>2</th>\n",
       "      <td>603253</td>\n",
       "      <td>Africa</td>\n",
       "      <td>W. Sahara</td>\n",
       "      <td>ESH</td>\n",
       "      <td>906.5</td>\n",
       "      <td>POLYGON ((-8.66559 27.65643, -8.66512 27.58948...</td>\n",
       "    </tr>\n",
       "    <tr>\n",
       "      <th>3</th>\n",
       "      <td>35623680</td>\n",
       "      <td>North America</td>\n",
       "      <td>Canada</td>\n",
       "      <td>CAN</td>\n",
       "      <td>1674000.0</td>\n",
       "      <td>MULTIPOLYGON (((-122.84000 49.00000, -122.9742...</td>\n",
       "    </tr>\n",
       "    <tr>\n",
       "      <th>4</th>\n",
       "      <td>326625791</td>\n",
       "      <td>North America</td>\n",
       "      <td>United States of America</td>\n",
       "      <td>USA</td>\n",
       "      <td>18560000.0</td>\n",
       "      <td>MULTIPOLYGON (((-122.84000 49.00000, -120.0000...</td>\n",
       "    </tr>\n",
       "  </tbody>\n",
       "</table>\n",
       "</div>"
      ],
      "text/plain": [
       "     pop_est      continent                      name iso_a3  gdp_md_est  \\\n",
       "0     920938        Oceania                      Fiji    FJI      8374.0   \n",
       "1   53950935         Africa                  Tanzania    TZA    150600.0   \n",
       "2     603253         Africa                 W. Sahara    ESH       906.5   \n",
       "3   35623680  North America                    Canada    CAN   1674000.0   \n",
       "4  326625791  North America  United States of America    USA  18560000.0   \n",
       "\n",
       "                                            geometry  \n",
       "0  MULTIPOLYGON (((180.00000 -16.06713, 180.00000...  \n",
       "1  POLYGON ((33.90371 -0.95000, 34.07262 -1.05982...  \n",
       "2  POLYGON ((-8.66559 27.65643, -8.66512 27.58948...  \n",
       "3  MULTIPOLYGON (((-122.84000 49.00000, -122.9742...  \n",
       "4  MULTIPOLYGON (((-122.84000 49.00000, -120.0000...  "
      ]
     },
     "execution_count": 8,
     "metadata": {},
     "output_type": "execute_result"
    }
   ],
   "source": [
    "world.head()"
   ]
  },
  {
   "cell_type": "code",
   "execution_count": 9,
   "metadata": {},
   "outputs": [],
   "source": [
    "world.plot();"
   ]
  },
  {
   "cell_type": "code",
   "execution_count": 10,
   "metadata": {},
   "outputs": [
    {
     "name": "stdout",
     "output_type": "stream",
     "text": [
      "AxesSubplot(0.125,0.222135;0.775x0.560729)\n"
     ]
    },
    {
     "data": {
      "image/png": "[encoded data removed]",
      "text/plain": [
       "<Figure size 432x288 with 1 Axes>"
      ]
     },
     "metadata": {
      "needs_background": "light"
     },
     "output_type": "display_data"
    }
   ],
   "source": [
    "print(world.plot())"
   ]
  },
  {
   "cell_type": "code",
   "execution_count": 11,
   "metadata": {},
   "outputs": [
    {
     "ename": "SyntaxError",
     "evalue": "invalid syntax (<ipython-input-11-d8603f9f9bc3>, line 1)",
     "output_type": "error",
     "traceback": [
      "\u001b[0;36m  File \u001b[0;32m\"<ipython-input-11-d8603f9f9bc3>\"\u001b[0;36m, line \u001b[0;32m1\u001b[0m\n\u001b[0;31m    which python\u001b[0m\n\u001b[0m               ^\u001b[0m\n\u001b[0;31mSyntaxError\u001b[0m\u001b[0;31m:\u001b[0m invalid syntax\n"
     ]
    }
   ],
   "source": [
    "which python"
   ]
  },
  {
   "cell_type": "code",
   "execution_count": 12,
   "metadata": {},
   "outputs": [
    {
     "name": "stdout",
     "output_type": "stream",
     "text": [
      "/Users/rubinbaskir/anaconda3/envs/TEST/bin/python\n"
     ]
    }
   ],
   "source": [
    "!which python"
   ]
  },
  {
   "cell_type": "code",
   "execution_count": 13,
   "metadata": {},
   "outputs": [
    {
     "name": "stdout",
     "output_type": "stream",
     "text": [
      "# packages in environment at /Users/rubinbaskir/anaconda3/envs/TEST:\n",
      "#\n",
      "# Name                    Version                   Build  Channel\n",
      "appnope                   0.1.0                    py37_0  \n",
      "attrs                     19.3.0                     py_0  \n",
      "backcall                  0.1.0                    py37_0  \n",
      "blas                      1.0                         mkl  \n",
      "bleach                    3.1.0                    py37_0  \n",
      "boost-cpp                 1.67.0               h1de35cc_4  \n",
      "bzip2                     1.0.8                h1de35cc_0  \n",
      "ca-certificates           2019.10.16                    0  \n",
      "cairo                     1.14.12              hc4e6be7_4  \n",
      "certifi                   2019.9.11                py37_0  \n",
      "cfitsio                   3.470                hb33e7b4_2  \n",
      "click                     7.0                      py37_0  \n",
      "click-plugins             1.1.1                      py_0  \n",
      "cligj                     0.5.0                    py37_0  \n",
      "curl                      7.67.0               ha441bb4_0  \n",
      "cycler                    0.10.0                   py37_0  \n",
      "decorator                 4.4.1                      py_0  \n",
      "defusedxml                0.6.0                      py_0  \n",
      "descartes                 1.1.0                      py_3  \n",
      "entrypoints               0.3                      py37_0  \n",
      "expat                     2.2.6                h0a44026_0  \n",
      "fiona                     1.8.11           py37heeaa653_0  \n",
      "fontconfig                2.13.0               h5d5b041_1  \n",
      "freetype                  2.9.1                hb4e5f40_0  \n",
      "freexl                    1.0.5                h1de35cc_0  \n",
      "gdal                      3.0.2            py37hbe65578_0  \n",
      "geopandas                 0.6.1                      py_0  \n",
      "geos                      3.8.0                h0a44026_0  \n",
      "geotiff                   1.5.1                h0b0f252_0  \n",
      "gettext                   0.19.8.1             h15daf44_3  \n",
      "giflib                    5.1.4                h1de35cc_1  \n",
      "glib                      2.63.1               hd977a24_0  \n",
      "hdf4                      4.2.13               h39711bb_2  \n",
      "hdf5                      1.10.4               hfa1e0ec_0  \n",
      "icu                       58.2                 h4b95b61_1  \n",
      "importlib_metadata        0.23                     py37_0  \n",
      "intel-openmp              2019.4                      233  \n",
      "ipykernel                 5.1.3            py37h39e3cac_0  \n",
      "ipython                   7.9.0            py37h39e3cac_0  \n",
      "ipython_genutils          0.2.0                    py37_0  \n",
      "jedi                      0.15.1                   py37_0  \n",
      "jinja2                    2.10.3                     py_0  \n",
      "jpeg                      9b                   he5867d9_2  \n",
      "json-c                    0.13.1               h3efe00b_0  \n",
      "json5                     0.8.5                      py_0  \n",
      "jsonschema                3.2.0                    py37_0  \n",
      "jupyter_client            5.3.4                    py37_0  \n",
      "jupyter_core              4.6.1                    py37_0  \n",
      "jupyterlab                1.2.3              pyhf63ae98_0  \n",
      "jupyterlab_server         1.0.6                      py_0  \n",
      "kealib                    1.4.7                hf5ed860_6  \n",
      "kiwisolver                1.1.0            py37h0a44026_0  \n",
      "krb5                      1.16.1               hddcf347_7  \n",
      "libblas                   3.8.0                    14_mkl    conda-forge\n",
      "libboost                  1.67.0               hebc422b_4  \n",
      "libcblas                  3.8.0                    14_mkl    conda-forge\n",
      "libcurl                   7.67.0               h051b688_0  \n",
      "libcxx                    4.0.1                hcfea43d_1  \n",
      "libcxxabi                 4.0.1                hcfea43d_1  \n",
      "libdap4                   3.19.1               h3d3e54a_0  \n",
      "libedit                   3.1.20181209         hb402a30_0  \n",
      "libffi                    3.2.1                h475c297_4  \n",
      "libgdal                   3.0.2                h42cfeda_0  \n",
      "libgfortran               3.0.1                h93005f0_2  \n",
      "libiconv                  1.15                 hdd342a3_7  \n",
      "libkml                    1.3.0                hbe12b63_4  \n",
      "liblapack                 3.8.0                    14_mkl    conda-forge\n",
      "libnetcdf                 4.6.1                hd5207e6_2  \n",
      "libopenblas               0.3.6                hdc02c5d_2  \n",
      "libpng                    1.6.37               ha441bb4_0  \n",
      "libpq                     11.2                 h051b688_0  \n",
      "libsodium                 1.0.16               h3efe00b_0  \n",
      "libspatialindex           1.9.3                h0a44026_0  \n",
      "libspatialite             4.3.0a               h5142b36_0  \n",
      "libssh2                   1.8.2                ha12b0ac_0  \n",
      "libtiff                   4.1.0                hcb84e12_0  \n",
      "libwebp                   1.0.1                hd73b212_0  \n",
      "libxml2                   2.9.9                hf6e021a_1  \n",
      "llvm-openmp               4.0.1                hcfea43d_1  \n",
      "lz4-c                     1.8.1.2              h1de35cc_0  \n",
      "markupsafe                1.1.1            py37h1de35cc_0  \n",
      "matplotlib                3.1.1            py37h54f8f79_0  \n",
      "mistune                   0.8.4            py37h1de35cc_0  \n",
      "mkl                       2019.4                      233  \n",
      "mkl-service               2.3.0            py37hfbe908c_0  \n",
      "mkl_fft                   1.0.15           py37h5e564d8_0  \n",
      "mkl_random                1.1.0            py37ha771720_0  \n",
      "more-itertools            7.2.0                    py37_0  \n",
      "munch                     2.5.0                      py_0  \n",
      "nb_conda                  2.2.1                    py37_0  \n",
      "nb_conda_kernels          2.2.2                    py37_0  \n",
      "nbconvert                 5.6.1                    py37_0  \n",
      "nbformat                  4.4.0                    py37_0  \n",
      "ncurses                   6.1                  h0a44026_1  \n",
      "notebook                  6.0.2                    py37_0  \n",
      "numpy                     1.17.4           py37h890c691_0  \n",
      "numpy-base                1.17.4           py37h6575580_0  \n",
      "openjpeg                  2.3.0                hb95cd4c_1  \n",
      "openssl                   1.1.1d               h1de35cc_3  \n",
      "pandas                    0.25.3           py37h0a44026_0  \n",
      "pandoc                    2.2.3.2                       0  \n",
      "pandocfilters             1.4.2                    py37_1  \n",
      "parso                     0.5.1                      py_0  \n",
      "pcre                      8.43                 h0a44026_0  \n",
      "pexpect                   4.7.0                    py37_0  \n",
      "pickleshare               0.7.5                    py37_0  \n",
      "pip                       19.3.1                   py37_0  \n",
      "pixman                    0.38.0               h1de35cc_0  \n",
      "poppler                   0.65.0               ha097c24_1  \n",
      "poppler-data              0.4.9                         0  \n",
      "postgresql                11.2                 h051b688_0  \n",
      "proj                      6.2.1                hfd5b9e3_0  \n",
      "prometheus_client         0.7.1                      py_0  \n",
      "prompt_toolkit            2.0.10                     py_0  \n",
      "ptyprocess                0.6.0                    py37_0  \n",
      "pygments                  2.4.2                      py_0  \n",
      "pyparsing                 2.4.5                      py_0  \n",
      "pyproj                    2.4.1            py37h1526c70_0  \n",
      "pyrsistent                0.15.6           py37h1de35cc_0  \n",
      "python                    3.7.5                h359304d_0  \n",
      "python-dateutil           2.8.1                      py_0  \n",
      "pytz                      2019.3                     py_0  \n",
      "pyzmq                     18.1.0           py37h0a44026_0  \n",
      "readline                  7.0                  h1de35cc_5  \n",
      "rtree                     0.8.3                    py37_0  \n",
      "send2trash                1.5.0                    py37_0  \n",
      "setuptools                42.0.1                   py37_0  \n",
      "shapely                   1.6.4            py37h6e5b138_0  \n",
      "six                       1.13.0                   py37_0  \n",
      "sqlite                    3.30.1               ha441bb4_0  \n",
      "tbb                       2018.0.5             h04f5b5a_0  \n",
      "terminado                 0.8.3                    py37_0  \n",
      "testpath                  0.4.4                      py_0  \n",
      "tiledb                    1.6.3                h29f752d_0  \n",
      "tk                        8.6.8                ha441bb4_0  \n",
      "tornado                   6.0.3            py37h1de35cc_0  \n",
      "traitlets                 4.3.3                    py37_0  \n",
      "tzcode                    2019a             h01d97ff_1002    conda-forge\n",
      "wcwidth                   0.1.7                    py37_0  \n",
      "webencodings              0.5.1                    py37_1  \n",
      "wheel                     0.33.6                   py37_0  \n",
      "xerces-c                  3.2.2                h44e365a_0  \n",
      "xz                        5.2.4                h1de35cc_4  \n",
      "zeromq                    4.3.1                h0a44026_3  \n",
      "zipp                      0.6.0                      py_0  \n",
      "zlib                      1.2.11               h1de35cc_3  \n",
      "zstd                      1.3.7                h5bba6e5_0  \n",
      "\n",
      "Note: you may need to restart the kernel to use updated packages.\n"
     ]
    }
   ],
   "source": [
    "conda list"
   ]
  },
  {
   "cell_type": "code",
   "execution_count": 21,
   "metadata": {},
   "outputs": [],
   "source": [
    "import geopandas as gpd\n"
   ]
  },
  {
   "cell_type": "code",
   "execution_count": 22,
   "metadata": {},
   "outputs": [],
   "source": [
    "from shapely.geometry import Point, Polygon"
   ]
  },
  {
   "cell_type": "code",
   "execution_count": 23,
   "metadata": {},
   "outputs": [],
   "source": [
    "import matplotlib.pyplot as plt"
   ]
  },
  {
   "cell_type": "code",
   "execution_count": 24,
   "metadata": {},
   "outputs": [],
   "source": [
    "import pandas as pd"
   ]
  },
  {
   "cell_type": "code",
   "execution_count": 25,
   "metadata": {},
   "outputs": [],
   "source": [
    "%matplotlib inline"
   ]
  },
  {
   "cell_type": "code",
   "execution_count": 59,
   "metadata": {},
   "outputs": [],
   "source": [
    "usa = gpd.read_file('/Users/rubinbaskir/Desktop/states_21basic/states.shp')"
   ]
  },
  {
   "cell_type": "code",
   "execution_count": 60,
   "metadata": {},
   "outputs": [
    {
     "data": {
      "text/html": [
       "<div>\n",
       "<style scoped>\n",
       "    .dataframe tbody tr th:only-of-type {\n",
       "        vertical-align: middle;\n",
       "    }\n",
       "\n",
       "    .dataframe tbody tr th {\n",
       "        vertical-align: top;\n",
       "    }\n",
       "\n",
       "    .dataframe thead th {\n",
       "        text-align: right;\n",
       "    }\n",
       "</style>\n",
       "<table border=\"1\" class=\"dataframe\">\n",
       "  <thead>\n",
       "    <tr style=\"text-align: right;\">\n",
       "      <th></th>\n",
       "      <th>STATE_NAME</th>\n",
       "      <th>DRAWSEQ</th>\n",
       "      <th>STATE_FIPS</th>\n",
       "      <th>SUB_REGION</th>\n",
       "      <th>STATE_ABBR</th>\n",
       "      <th>geometry</th>\n",
       "    </tr>\n",
       "  </thead>\n",
       "  <tbody>\n",
       "    <tr>\n",
       "      <th>0</th>\n",
       "      <td>Hawaii</td>\n",
       "      <td>1</td>\n",
       "      <td>15</td>\n",
       "      <td>Pacific</td>\n",
       "      <td>HI</td>\n",
       "      <td>MULTIPOLYGON (((-160.07380 22.00418, -160.0497...</td>\n",
       "    </tr>\n",
       "    <tr>\n",
       "      <th>1</th>\n",
       "      <td>Washington</td>\n",
       "      <td>2</td>\n",
       "      <td>53</td>\n",
       "      <td>Pacific</td>\n",
       "      <td>WA</td>\n",
       "      <td>MULTIPOLYGON (((-122.40202 48.22522, -122.4628...</td>\n",
       "    </tr>\n",
       "    <tr>\n",
       "      <th>2</th>\n",
       "      <td>Montana</td>\n",
       "      <td>3</td>\n",
       "      <td>30</td>\n",
       "      <td>Mountain</td>\n",
       "      <td>MT</td>\n",
       "      <td>POLYGON ((-111.47543 44.70216, -111.48080 44.6...</td>\n",
       "    </tr>\n",
       "    <tr>\n",
       "      <th>3</th>\n",
       "      <td>Maine</td>\n",
       "      <td>4</td>\n",
       "      <td>23</td>\n",
       "      <td>New England</td>\n",
       "      <td>ME</td>\n",
       "      <td>MULTIPOLYGON (((-69.77728 44.07415, -69.85993 ...</td>\n",
       "    </tr>\n",
       "    <tr>\n",
       "      <th>4</th>\n",
       "      <td>North Dakota</td>\n",
       "      <td>5</td>\n",
       "      <td>38</td>\n",
       "      <td>West North Central</td>\n",
       "      <td>ND</td>\n",
       "      <td>POLYGON ((-98.73044 45.93827, -99.00683 45.939...</td>\n",
       "    </tr>\n",
       "  </tbody>\n",
       "</table>\n",
       "</div>"
      ],
      "text/plain": [
       "     STATE_NAME  DRAWSEQ STATE_FIPS          SUB_REGION STATE_ABBR  \\\n",
       "0        Hawaii        1         15             Pacific         HI   \n",
       "1    Washington        2         53             Pacific         WA   \n",
       "2       Montana        3         30            Mountain         MT   \n",
       "3         Maine        4         23         New England         ME   \n",
       "4  North Dakota        5         38  West North Central         ND   \n",
       "\n",
       "                                            geometry  \n",
       "0  MULTIPOLYGON (((-160.07380 22.00418, -160.0497...  \n",
       "1  MULTIPOLYGON (((-122.40202 48.22522, -122.4628...  \n",
       "2  POLYGON ((-111.47543 44.70216, -111.48080 44.6...  \n",
       "3  MULTIPOLYGON (((-69.77728 44.07415, -69.85993 ...  \n",
       "4  POLYGON ((-98.73044 45.93827, -99.00683 45.939...  "
      ]
     },
     "execution_count": 60,
     "metadata": {},
     "output_type": "execute_result"
    }
   ],
   "source": [
    "usa.head()"
   ]
  },
  {
   "cell_type": "code",
   "execution_count": 61,
   "metadata": {},
   "outputs": [
    {
     "data": {
      "text/html": [
       "<div>\n",
       "<style scoped>\n",
       "    .dataframe tbody tr th:only-of-type {\n",
       "        vertical-align: middle;\n",
       "    }\n",
       "\n",
       "    .dataframe tbody tr th {\n",
       "        vertical-align: top;\n",
       "    }\n",
       "\n",
       "    .dataframe thead th {\n",
       "        text-align: right;\n",
       "    }\n",
       "</style>\n",
       "<table border=\"1\" class=\"dataframe\">\n",
       "  <thead>\n",
       "    <tr style=\"text-align: right;\">\n",
       "      <th></th>\n",
       "      <th>STATE_NAME</th>\n",
       "      <th>DRAWSEQ</th>\n",
       "      <th>STATE_FIPS</th>\n",
       "      <th>SUB_REGION</th>\n",
       "      <th>STATE_ABBR</th>\n",
       "      <th>geometry</th>\n",
       "    </tr>\n",
       "  </thead>\n",
       "  <tbody>\n",
       "    <tr>\n",
       "      <th>49</th>\n",
       "      <td>Michigan</td>\n",
       "      <td>50</td>\n",
       "      <td>26</td>\n",
       "      <td>East North Central</td>\n",
       "      <td>MI</td>\n",
       "      <td>MULTIPOLYGON (((-88.49753 48.17380, -88.62533 ...</td>\n",
       "    </tr>\n",
       "    <tr>\n",
       "      <th>50</th>\n",
       "      <td>Alaska</td>\n",
       "      <td>51</td>\n",
       "      <td>02</td>\n",
       "      <td>Pacific</td>\n",
       "      <td>AK</td>\n",
       "      <td>MULTIPOLYGON (((-161.33379 58.73325, -161.3824...</td>\n",
       "    </tr>\n",
       "  </tbody>\n",
       "</table>\n",
       "</div>"
      ],
      "text/plain": [
       "   STATE_NAME  DRAWSEQ STATE_FIPS          SUB_REGION STATE_ABBR  \\\n",
       "49   Michigan       50         26  East North Central         MI   \n",
       "50     Alaska       51         02             Pacific         AK   \n",
       "\n",
       "                                             geometry  \n",
       "49  MULTIPOLYGON (((-88.49753 48.17380, -88.62533 ...  \n",
       "50  MULTIPOLYGON (((-161.33379 58.73325, -161.3824...  "
      ]
     },
     "execution_count": 61,
     "metadata": {},
     "output_type": "execute_result"
    }
   ],
   "source": [
    "usa.tail(2)"
   ]
  },
  {
   "cell_type": "code",
   "execution_count": 62,
   "metadata": {},
   "outputs": [
    {
     "data": {
      "text/plain": [
       "<matplotlib.axes._subplots.AxesSubplot at 0x127e8b190>"
      ]
     },
     "execution_count": 62,
     "metadata": {},
     "output_type": "execute_result"
    },
    {
     "data": {
      "image/png": "[encoded data removed]",
      "text/plain": [
       "<Figure size 432x288 with 1 Axes>"
      ]
     },
     "metadata": {
      "needs_background": "light"
     },
     "output_type": "display_data"
    }
   ],
   "source": [
    "usa.plot()"
   ]
  },
  {
   "cell_type": "code",
   "execution_count": 64,
   "metadata": {},
   "outputs": [
    {
     "data": {
      "image/svg+xml": [
       "<svg xmlns=\"http://www.w3.org/2000/svg\" xmlns:xlink=\"http://www.w3.org/1999/xlink\" width=\"100.0\" height=\"100.0\" viewBox=\"-160.46045874582825 18.70373394488395 5.887414805483104 3.7434388034863524\" preserveAspectRatio=\"xMinYMin meet\"><g transform=\"matrix(1,0,0,-1,0,41.15090669325426)\"><g><path fill-rule=\"evenodd\" fill=\"#66cc99\" stroke=\"#555555\" stroke-width=\"0.11774829610966207\" opacity=\"0.6\" d=\"M -160.07380334546815,22.00417734795773 L -160.0497093454457,21.988164347942817 L -160.0898583454831,21.915870347875487 L -160.17013734555786,21.867596347830528 L -160.20225934558778,21.795308347763203 L -160.24240634562517,21.803280347770627 L -160.2263363456102,21.891592347852875 L -160.121962345513,21.96397834792029 L -160.07380334546815,22.00417734795773 z\" /><path fill-rule=\"evenodd\" fill=\"#66cc99\" stroke=\"#555555\" stroke-width=\"0.11774829610966207\" opacity=\"0.6\" d=\"M -159.33517434478023,21.94834334790573 L -159.43954534487744,21.86807134783097 L -159.57602134500453,21.88413634784593 L -159.64024734506435,21.94836534790575 L -159.7365923451541,21.9644203479207 L -159.8008143452139,22.036666347987985 L -159.71250634513166,22.14905934809266 L -159.57601234500453,22.213179348152376 L -159.39136734483256,22.229120348167225 L -159.34319534478772,22.197016348137325 L -159.29502534474284,22.12481234807008 L -159.32713034477274,22.044639347995414 L -159.33517434478023,21.94834334790573 z\" /><path fill-rule=\"evenodd\" fill=\"#66cc99\" stroke=\"#555555\" stroke-width=\"0.11774829610966207\" opacity=\"0.6\" d=\"M -157.67333034323252,21.298027347300074 L -157.68137134324002,21.273942347277643 L -157.7215013432774,21.281971347285122 L -157.8258713433746,21.249863347255218 L -157.89813434344188,21.330144347329988 L -157.94630634348675,21.30606134730756 L -158.0988333436288,21.290008347292606 L -158.13095134365872,21.354232347352422 L -158.23531834375592,21.47465234746457 L -158.24334234376337,21.538879347524386 L -158.26743134378583,21.58704234756924 L -158.11489434364375,21.579016347561765 L -158.04262634357644,21.675350347651484 L -157.98642834352412,21.699433347673914 L -157.91417934345682,21.6352083476141 L -157.84995934339702,21.506758347494472 L -157.80981534335962,21.43450534742718 L -157.76164334331477,21.45858734744961 L -157.7134723432699,21.386335347382317 L -157.67333034323252,21.298027347300074 z\" /><path fill-rule=\"evenodd\" fill=\"#66cc99\" stroke=\"#555555\" stroke-width=\"0.11774829610966207\" opacity=\"0.6\" d=\"M -156.71787234234267,21.137419347150498 L -156.76604834238753,21.065176347083217 L -156.88648434249973,21.049134347068275 L -157.0711323426717,21.105331347120615 L -157.28789734287355,21.081250347098187 L -157.3039483428885,21.137448347150524 L -157.24774734283616,21.161530347172953 L -157.2316943428212,21.233776347240237 L -157.16747134276142,21.19364034720286 L -157.00690334261185,21.18561034719538 L -156.9925463425985,21.195420347204514 L -156.958733342567,21.209693347217808 L -156.94334634255267,21.172778347183428 L -156.91424234252557,21.167372347178393 L -156.9102143425218,21.158045347169708 L -156.71787234234267,21.137419347150498 z\" /><path fill-rule=\"evenodd\" fill=\"#66cc99\" stroke=\"#555555\" stroke-width=\"0.11774829610966207\" opacity=\"0.6\" d=\"M -157.03905034264181,20.92870734695612 L -156.91058634252215,20.92871834695613 L -156.80620534242496,20.840418346873893 L -156.81422534243242,20.792252346829034 L -156.88648734249972,20.736049346776692 L -156.9667653425745,20.728020346769213 L -156.99086334259692,20.792237346829022 L -156.98282634258945,20.832377346866405 L -157.05509834265675,20.88053834691126 L -157.03905034264181,20.92870734695612 z\" /><path fill-rule=\"evenodd\" fill=\"#66cc99\" stroke=\"#555555\" stroke-width=\"0.11774829610966207\" opacity=\"0.6\" d=\"M -156.1960453418567,20.631649346679463 L -156.27631734193145,20.583484346634606 L -156.3967353420436,20.567427346619652 L -156.436879342081,20.623621346671985 L -156.46097234210342,20.727981346769177 L -156.49307434213333,20.792204346828992 L -156.52519334216322,20.776149346814037 L -156.63758634226792,20.808261346843945 L -156.69378234232025,20.91262434694114 L -156.65363634228285,21.016985347038336 L -156.59743934223053,21.04106434706076 L -156.52519134216323,20.984870347008425 L -156.47702234211837,20.896565346926185 L -156.35660334200622,20.944726346971038 L -156.2602633419165,20.928671346956087 L -156.0113923416847,20.800225346836463 L -155.9873173416623,20.752061346791606 L -156.04351134171463,20.655732346701893 L -156.13180934179687,20.623623346671987 L -156.1960453418567,20.631649346679463 z\" /><path fill-rule=\"evenodd\" fill=\"#66cc99\" stroke=\"#555555\" stroke-width=\"0.11774829610966207\" opacity=\"0.6\" d=\"M -155.66619234136323,18.92178634508703 L -155.7785853414679,19.01009234516927 L -155.85886134154265,19.01010134516928 L -155.90703134158753,19.130513345281422 L -155.87492734155762,19.371358345505726 L -155.94717834162492,19.4837503456104 L -155.97125834164734,19.628252345744976 L -156.04352434171466,19.78078334588703 L -155.97930134165483,19.820922345924416 L -155.88295834156511,19.933312346029084 L -155.82676134151276,20.005563346096373 L -155.83478634152024,20.06175734614871 L -155.89097834157258,20.174149346253383 L -155.85885834154266,20.270479346343098 L -155.73844234143053,20.206256346283283 L -155.56182634126603,20.134007346216 L -155.20055034092957,19.99752834608889 L -155.09618534083236,19.877114345976747 L -155.07210634080994,19.724585345834694 L -154.97576334072022,19.740643345849648 L -154.97576234072022,19.652335345767405 L -154.79109634054822,19.53996034566275 L -154.81518734057067,19.459676345587976 L -154.92758134067535,19.41951834555058 L -155.01588134075757,19.331211345468336 L -155.1523723408847,19.266992345408525 L -155.30489934102675,19.23487834537862 L -155.52167834122864,19.122484345273943 L -155.5377293412436,19.04221034519918 L -155.66619234136323,18.92178634508703 z\" /></g></g></svg>"
      ],
      "text/plain": [
       "<shapely.geometry.multipolygon.MultiPolygon at 0x128a6ad90>"
      ]
     },
     "execution_count": 64,
     "metadata": {},
     "output_type": "execute_result"
    }
   ],
   "source": [
    "usa.loc[0, \"geometry\"]"
   ]
  },
  {
   "cell_type": "code",
   "execution_count": 65,
   "metadata": {},
   "outputs": [
    {
     "data": {
      "image/svg+xml": [
       "<svg xmlns=\"http://www.w3.org/2000/svg\" xmlns:xlink=\"http://www.w3.org/1999/xlink\" width=\"100.0\" height=\"100.0\" viewBox=\"-90.72773484088457 41.377959806000966 8.627433128034909 7.115370126626715\" preserveAspectRatio=\"xMinYMin meet\"><g transform=\"matrix(1,0,0,-1,0,89.87128973862865)\"><g><path fill-rule=\"evenodd\" fill=\"#66cc99\" stroke=\"#555555\" stroke-width=\"0.17254866256069817\" opacity=\"0.6\" d=\"M -88.49752727880752,48.17379537233009 L -88.62532727892655,48.03316737219912 L -88.9015472791838,47.960248372131204 L -89.02862227930216,47.85065537202914 L -89.13988527940577,47.824076372004384 L -89.19291627945516,47.84461337202352 L -89.20178727946342,47.88385737206006 L -89.15609927942087,47.93922837211163 L -88.49752727880752,48.17379537233009 z\" /><path fill-rule=\"evenodd\" fill=\"#66cc99\" stroke=\"#555555\" stroke-width=\"0.17254866256069817\" opacity=\"0.6\" d=\"M -88.50068127881046,47.290180371507155 L -88.437901278752,47.35589637156836 L -88.21139227854104,47.44783537165398 L -87.78812027814685,47.47079337167536 L -87.70438327806886,47.41595037162429 L -87.7375102780997,47.393024371602934 L -87.9170422782669,47.358007371570324 L -88.22227927855118,47.200752371423874 L -88.41284327872866,46.98809437122581 L -88.47066427878251,47.111472371340724 L -88.59426227889762,47.13476537136241 L -88.5956322788989,47.24359337146377 L -88.50068127881046,47.290180371507155 z\" /><path fill-rule=\"evenodd\" fill=\"#66cc99\" stroke=\"#555555\" stroke-width=\"0.17254866256069817\" opacity=\"0.6\" d=\"M -85.859844276351,45.969469370277146 L -85.91495527640232,45.957978370266446 L -85.91710427640432,45.91819237022939 L -86.06789127654476,45.964210370272255 L -86.25931927672303,45.94692937025616 L -86.31563827677549,45.90568237021774 L -86.34379527680171,45.83439637015135 L -86.45827527690832,45.762747370084625 L -86.52939027697455,45.74896137007178 L -86.52201027696769,45.724094370048626 L -86.57612427701808,45.71017437003566 L -86.62978427706805,45.621233369952826 L -86.68505327711954,45.650048369979665 L -86.69691927713058,45.69251137001921 L -86.5847352770261,45.81387937013224 L -86.7614692771907,45.82606737014359 L -86.90162427732123,45.71477837003995 L -87.12375927752811,45.69624637002269 L -87.26070727765565,45.55480236989096 L -87.33222727772225,45.42394236976909 L -87.58386427795662,45.16273336952582 L -87.59251427796467,45.108501369475306 L -87.67281427803945,45.14067236950527 L -87.7296692780924,45.17660436953874 L -87.7362002780985,45.19907236955966 L -87.72162827808492,45.211672369571396 L -87.71966827808309,45.23677136959477 L -87.70514227806956,45.247086369604375 L -87.70447127806894,45.27220536962777 L -87.64536227801389,45.34816936969852 L -87.64368427801233,45.36185636971126 L -87.68959827805509,45.39126936973865 L -87.76003827812069,45.352897369702916 L -87.82800827818399,45.35832136970797 L -87.84128227819636,45.34614936969663 L -87.86209627821574,45.370165369719004 L -87.86853527822174,45.37207236972078 L -87.8739742782268,45.36208536971148 L -87.88361027823578,45.36585436971499 L -87.84953127820404,45.40611736975249 L -87.86026727821404,45.44509836978879 L -87.81361427817059,45.466460369808686 L -87.78938527814802,45.499067369839054 L -87.8051412781627,45.544525369881384 L -87.82860227818455,45.5685913699038 L -87.78631227814516,45.56851936990373 L -87.7750752781347,45.600387369933415 L -87.7760452781356,45.613200369945346 L -87.81993827817648,45.65445036998376 L -87.81705427817379,45.66539036999395 L -87.78094527814017,45.67591537000375 L -87.77747327813692,45.684101370011376 L -87.80115627815898,45.70132437002742 L -87.80155327815935,45.71139137003679 L -87.84236227819736,45.722418370047066 L -87.87362927822647,45.750699370073406 L -87.96917927831547,45.76644837008807 L -87.99007027833493,45.795046370114704 L -88.05163927839226,45.78611237010638 L -88.08873427842681,45.791532370111426 L -88.12994927846519,45.81940237013738 L -88.12178627845759,45.8348783701518 L -88.0654212784051,45.8736423701879 L -88.09576427843336,45.89180337020481 L -88.09385027843157,45.920615370231644 L -88.11139027844791,45.926287370236935 L -88.15043827848427,45.93629337024625 L -88.18019427851199,45.95351637026229 L -88.2149922785444,45.94790137025706 L -88.25716827858368,45.9670553702749 L -88.29915227862278,45.96194437027014 L -88.32132327864343,45.96671237027458 L -88.3699382786887,45.994587370300536 L -88.40352227871998,45.98342237029014 L -88.45431927876729,46.00076037030629 L -88.48381427879475,45.99915137030479 L -88.49408327880433,46.01296037031766 L -88.51561327882438,46.01860937032291 L -88.54835827885486,46.019300370323556 L -88.57535727888002,46.008959370313924 L -88.59753627890068,46.01551637032003 L -88.6155022789174,45.99412037030011 L -88.64366927894363,45.99338837029943 L -88.67738427897504,46.020144370324346 L -88.70360527899946,46.01892337032321 L -88.72640927902069,46.02958137033313 L -88.7730172790641,46.02114737032528 L -88.77748027906826,46.032614370335956 L -88.79381527908347,46.036360370339445 L -88.80439727909332,46.026804370330545 L -88.92519527920582,46.07360137037413 L -88.9853012792618,46.10039137039908 L -89.09980627936845,46.14564237044122 L -89.9251362801371,46.30402537058873 L -90.1116592803108,46.34042937062263 L -90.11517728031409,46.36515537064566 L -90.14179728033888,46.39389937067243 L -90.16139128035712,46.44238037071758 L -90.21152628040382,46.50629537077711 L -90.25840128044747,46.508789370779425 L -90.26978528045808,46.52248037079218 L -90.30018128048638,46.52505137079457 L -90.30239328048845,46.544296370812496 L -90.31370828049899,46.55156337081927 L -90.38552528056586,46.53965737080817 L -90.40820028058698,46.568610370835145 L -90.01886428022439,46.678633370937604 L -89.88625228010088,46.76893537102171 L -89.79124428001239,46.824713371073656 L -89.38671827963566,46.850208371097395 L -89.21459227947535,46.92337837116554 L -89.12518727939208,46.99660637123374 L -88.99487527927072,46.9971033712342 L -88.92968827921001,47.03092637126571 L -88.88483227916824,47.104554371334274 L -88.62950027893044,47.225812371447205 L -88.61810427891983,47.13111437135902 L -88.51121527882027,47.106506371336096 L -88.51299527882193,47.03258937126726 L -88.44116427875504,46.99073437122827 L -88.4459642787595,46.92830437117013 L -88.47652327878797,46.855151371102004 L -88.44661727876012,46.79939637105008 L -88.17782727850978,46.94589037118651 L -88.18918827852036,46.90095837114467 L -88.03668527837834,46.91186537115482 L -87.90065427825165,46.90976137115287 L -87.66376627803103,46.83685137108496 L -87.37153927775887,46.50799137077868 L -87.11067927751593,46.501473370772615 L -87.00640227741881,46.53629337080504 L -86.87138227729307,46.444359370719425 L -86.75949527718886,46.48663137075879 L -86.63822027707592,46.42226337069884 L -86.46239227691217,46.56108537082814 L -86.14810927661946,46.67305337093241 L -86.09673927657163,46.65526837091585 L -85.85753627634885,46.69481537095268 L -85.50385027601945,46.67417437093346 L -85.2300942757645,46.756785371010395 L -84.95475927550807,46.770951371023585 L -85.02697127557532,46.694339370952235 L -85.01897527556788,46.5490243708169 L -85.0516552755983,46.50557637077644 L -85.0166392755657,46.476444370749306 L -84.93132027548624,46.48784337075992 L -84.80365327536734,46.444054370719144 L -84.62981527520544,46.48294337075536 L -84.57266727515221,46.40792637068549 L -84.41596727500628,46.48065837075323 L -84.31161427490909,46.48866937076069 L -84.18164627478805,46.24872037053722 L -84.27313427487326,46.20730937049865 L -84.24703127484895,46.17144737046526 L -84.11973527473039,46.17610837046959 L -84.02957827464643,46.128943370425674 L -84.06198127467661,46.094470370393566 L -83.9895012746091,46.02598537032978 L -83.90195227452757,46.00590237031108 L -83.90646027453177,45.96023937026855 L -84.11327227472438,45.97853837028559 L -84.35448527494903,45.99919037030483 L -84.50163527508606,45.97834237028541 L -84.61684527519336,46.03823037034118 L -84.68902227526058,46.03591837033903 L -84.73173227530036,45.855679370171174 L -84.85110027541153,45.89063637020373 L -85.0616292756076,46.02475137032863 L -85.37824327590246,46.100047370398755 L -85.50954627602475,46.101911370400494 L -85.65538127616057,45.97287037028032 L -85.859844276351,45.969469370277146 z\" /><path fill-rule=\"evenodd\" fill=\"#66cc99\" stroke=\"#555555\" stroke-width=\"0.17254866256069817\" opacity=\"0.6\" d=\"M -83.85468027448354,46.01403137031865 L -83.80110527443365,45.98841237029479 L -83.75642027439203,46.02733837033104 L -83.67359227431488,46.03619237033929 L -83.68031427432115,46.071794370372444 L -83.7324482743697,46.084108370383916 L -83.64988727429281,46.10397137040241 L -83.58949827423658,46.088518370388016 L -83.53399127418487,46.01179037031656 L -83.47318927412825,45.98754737029398 L -83.51615927416827,45.9257143702364 L -83.57981327422755,45.91750137022875 L -83.62970527427402,45.95359637026236 L -83.80488127443716,45.93676437024669 L -83.8528102744818,45.9974493703032 L -83.8858912745126,45.970852370278436 L -83.85468027448354,46.01403137031865 z\" /><path fill-rule=\"evenodd\" fill=\"#66cc99\" stroke=\"#555555\" stroke-width=\"0.17254866256069817\" opacity=\"0.6\" d=\"M -86.83482927725902,41.765504366361895 L -86.6175922770567,41.907448366494094 L -86.4988332769461,42.126446366698055 L -86.3742782768301,42.249421366812584 L -86.28498027674694,42.42232436697361 L -86.21785427668442,42.7748253673019 L -86.27383727673656,43.12104536762435 L -86.46320127691291,43.475166367954145 L -86.54130127698565,43.66318736812926 L -86.44781127689858,43.772665368231216 L -86.4043452768581,43.766642368225604 L -86.43410127688581,43.7814583682394 L -86.42881427688089,43.82012336827542 L -86.45954827690952,43.95018436839654 L -86.43814727688958,43.94559236839227 L -86.51860227696451,44.053619368492875 L -86.38642327684141,44.18320436861356 L -86.2719542767348,44.351228368770045 L -86.23803827670322,44.52227336892934 L -86.2586272767224,44.70073136909554 L -86.10848427658256,44.73444236912694 L -86.08291827655874,44.77792936916744 L -86.09796427657277,44.85061236923513 L -86.06745427654435,44.898257369279506 L -85.79575627629131,44.9859743693612 L -85.61021527611851,45.19652736955729 L -85.56551427607688,45.18056036954242 L -85.65300627615837,44.95836236933548 L -85.63803927614443,44.77843536916791 L -85.52608127604016,44.76316236915369 L -85.45135127597055,44.860540369244376 L -85.38486927590864,45.010603369384135 L -85.39024427591364,45.21159336957132 L -85.37325327589782,45.273541369629015 L -85.3054752758347,45.32038336967264 L -85.09286227563669,45.37022536971906 L -84.98589327553707,45.37317836972181 L -84.92167427547726,45.409899369756005 L -85.0818152756264,45.464650369807 L -85.12044727566237,45.56977936990491 L -85.07801927562286,45.63018536996117 L -84.98341227553476,45.68371337001102 L -84.97203827552416,45.73774537006133 L -84.72418627529333,45.78030437010098 L -84.4652752750522,45.653637369983 L -84.32145827491826,45.665607369994156 L -84.20556027481032,45.63090536996184 L -84.13522927474482,45.57134336990636 L -84.10590727471751,45.498749369838755 L -83.92289227454707,45.49177336983226 L -83.7828092744166,45.40944936975559 L -83.71231827435096,45.41239436975833 L -83.59236327423923,45.34950236969976 L -83.49583227414934,45.360802369710285 L -83.48959827414353,45.3289373696806 L -83.39401927405451,45.27290736962843 L -83.42076127407942,45.25718236961378 L -83.39869527405887,45.213641369573224 L -83.31270727397879,45.098620369466104 L -83.44444127410148,45.052773369423406 L -83.43397227409173,45.01112836938462 L -83.46490327412053,44.99788336937229 L -83.42935527408743,44.926297369305615 L -83.31972427398533,44.86064636924448 L -83.28081227394908,44.70318336909783 L -83.32003627398562,44.515460368922994 L -83.35696327402,44.33513336875505 L -83.52915027418037,44.261274368686266 L -83.56823727421677,44.17011836860137 L -83.59840427424487,44.07049336850859 L -83.70480227434396,43.99716536844029 L -83.87361527450118,43.96284236840833 L -83.91837627454287,43.916997368365635 L -83.93812127456125,43.69828336816194 L -83.6991642743387,43.59964236807008 L -83.65461527429721,43.607420368077314 L -83.53090927418201,43.7259433681877 L -83.49424827414786,43.70284136816619 L -83.46640827412193,43.74574036820614 L -83.36716327402951,43.84445236829807 L -83.32602627399119,43.94045936838749 L -82.94015427363182,44.069959368508094 L -82.80597827350687,44.033564368474195 L -82.72790227343415,43.97250636841733 L -82.61848727333225,43.787866368245375 L -82.60573827332037,43.694568368158485 L -82.50382027322546,43.17225336767204 L -82.41983627314724,42.97246536748597 L -82.47195227319578,42.89868236741725 L -82.47323827319697,42.76289636729079 L -82.51817927323883,42.634052367170796 L -82.64587727335775,42.631728367168634 L -82.6340152733467,42.6693823672037 L -82.72980627343593,42.681226367214734 L -82.8204072735203,42.63579436717242 L -82.8023612735035,42.61292636715112 L -82.88813827358338,42.495756367042 L -82.87490727357105,42.458067367006905 L -82.9293892736218,42.3630403669184 L -83.10758827378775,42.29270536685289 L -83.19387327386812,42.11574936668809 L -83.19006627386457,42.03397936661194 L -83.4826912741371,41.725130366324294 L -83.76395427439904,41.71704236631676 L -83.86863927449654,41.715993366315786 L -84.35920827495342,41.708039366308384 L -84.38439327497687,41.70715036630755 L -84.79037727535497,41.69749436629856 L -84.78847827535321,41.76095936635767 L -84.82600827538816,41.761875366358524 L -85.19314027573007,41.762867366359444 L -85.297209275827,41.763581366360114 L -85.65945927616437,41.76262736635922 L -85.79922727629454,41.76353536636007 L -86.06830227654514,41.76462836636108 L -86.23456527669998,41.76486436636131 L -86.52518127697064,41.76554036636193 L -86.83482927725902,41.765504366361895 z\" /></g></g></svg>"
      ],
      "text/plain": [
       "<shapely.geometry.multipolygon.MultiPolygon at 0x127e762d0>"
      ]
     },
     "execution_count": 65,
     "metadata": {},
     "output_type": "execute_result"
    }
   ],
   "source": [
    "usa.loc[49, \"geometry\"]"
   ]
  },
  {
   "cell_type": "code",
   "execution_count": 66,
   "metadata": {},
   "outputs": [
    {
     "name": "stdout",
     "output_type": "stream",
     "text": [
      "              STATE_NAME  DRAWSEQ STATE_FIPS          SUB_REGION STATE_ABBR  \\\n",
      "0                 Hawaii        1         15             Pacific         HI   \n",
      "1             Washington        2         53             Pacific         WA   \n",
      "2                Montana        3         30            Mountain         MT   \n",
      "3                  Maine        4         23         New England         ME   \n",
      "4           North Dakota        5         38  West North Central         ND   \n",
      "5           South Dakota        6         46  West North Central         SD   \n",
      "6                Wyoming        7         56            Mountain         WY   \n",
      "7              Wisconsin        8         55  East North Central         WI   \n",
      "8                  Idaho        9         16            Mountain         ID   \n",
      "9                Vermont       10         50         New England         VT   \n",
      "10             Minnesota       11         27  West North Central         MN   \n",
      "11                Oregon       12         41             Pacific         OR   \n",
      "12         New Hampshire       13         33         New England         NH   \n",
      "13                  Iowa       14         19  West North Central         IA   \n",
      "14         Massachusetts       15         25         New England         MA   \n",
      "15              Nebraska       16         31  West North Central         NE   \n",
      "16              New York       17         36     Middle Atlantic         NY   \n",
      "17          Pennsylvania       18         42     Middle Atlantic         PA   \n",
      "18           Connecticut       19         09         New England         CT   \n",
      "19          Rhode Island       20         44         New England         RI   \n",
      "20            New Jersey       21         34     Middle Atlantic         NJ   \n",
      "21               Indiana       22         18  East North Central         IN   \n",
      "22                Nevada       23         32            Mountain         NV   \n",
      "23                  Utah       24         49            Mountain         UT   \n",
      "24            California       25         06             Pacific         CA   \n",
      "25                  Ohio       26         39  East North Central         OH   \n",
      "26              Illinois       27         17  East North Central         IL   \n",
      "27  District of Columbia       28         11      South Atlantic         DC   \n",
      "28              Delaware       29         10      South Atlantic         DE   \n",
      "29         West Virginia       30         54      South Atlantic         WV   \n",
      "30              Maryland       31         24      South Atlantic         MD   \n",
      "31              Colorado       32         08            Mountain         CO   \n",
      "32              Kentucky       33         21  East South Central         KY   \n",
      "33                Kansas       34         20  West North Central         KS   \n",
      "34              Virginia       35         51      South Atlantic         VA   \n",
      "35              Missouri       36         29  West North Central         MO   \n",
      "36               Arizona       37         04            Mountain         AZ   \n",
      "37              Oklahoma       38         40  West South Central         OK   \n",
      "38        North Carolina       39         37      South Atlantic         NC   \n",
      "39             Tennessee       40         47  East South Central         TN   \n",
      "40                 Texas       41         48  West South Central         TX   \n",
      "41            New Mexico       42         35            Mountain         NM   \n",
      "42               Alabama       43         01  East South Central         AL   \n",
      "43           Mississippi       44         28  East South Central         MS   \n",
      "44               Georgia       45         13      South Atlantic         GA   \n",
      "45        South Carolina       46         45      South Atlantic         SC   \n",
      "46              Arkansas       47         05  West South Central         AR   \n",
      "47             Louisiana       48         22  West South Central         LA   \n",
      "48               Florida       49         12      South Atlantic         FL   \n",
      "49              Michigan       50         26  East North Central         MI   \n",
      "50                Alaska       51         02             Pacific         AK   \n",
      "\n",
      "                                             geometry  \n",
      "0   MULTIPOLYGON (((-160.07380 22.00418, -160.0497...  \n",
      "1   MULTIPOLYGON (((-122.40202 48.22522, -122.4628...  \n",
      "2   POLYGON ((-111.47543 44.70216, -111.48080 44.6...  \n",
      "3   MULTIPOLYGON (((-69.77728 44.07415, -69.85993 ...  \n",
      "4   POLYGON ((-98.73044 45.93827, -99.00683 45.939...  \n",
      "5   POLYGON ((-102.78838 42.99530, -103.00588 42.9...  \n",
      "6   POLYGON ((-104.05362 41.69822, -104.05550 41.5...  \n",
      "7   MULTIPOLYGON (((-87.74856 44.96162, -87.83999 ...  \n",
      "8   POLYGON ((-117.02630 43.67903, -117.02379 43.7...  \n",
      "9   POLYGON ((-73.25806 42.74606, -73.26928 42.747...  \n",
      "10  POLYGON ((-91.73037 43.49957, -92.07753 43.499...  \n",
      "11  POLYGON ((-121.44151 41.99433, -122.28471 42.0...  \n",
      "12  POLYGON ((-72.27992 42.72047, -72.45577 42.725...  \n",
      "13  POLYGON ((-91.12013 40.70544, -91.12930 40.682...  \n",
      "14  MULTIPOLYGON (((-71.31933 41.77220, -71.33980 ...  \n",
      "15  POLYGON ((-101.40739 40.00100, -102.05154 39.9...  \n",
      "16  MULTIPOLYGON (((-79.76324 42.26733, -79.44402 ...  \n",
      "17  POLYGON ((-77.47579 39.71962, -78.09595 39.725...  \n",
      "18  POLYGON ((-73.53039 41.52275, -73.51715 41.665...  \n",
      "19  MULTIPOLYGON (((-71.79019 41.60131, -71.79261 ...  \n",
      "20  POLYGON ((-75.48928 39.71486, -75.47597 39.720...  \n",
      "21  POLYGON ((-86.34161 38.17729, -86.36435 38.193...  \n",
      "22  POLYGON ((-119.15245 38.41180, -119.31883 38.5...  \n",
      "23  POLYGON ((-114.04727 38.13765, -114.04509 38.5...  \n",
      "24  MULTIPOLYGON (((-121.66522 38.16929, -121.7823...  \n",
      "25  POLYGON ((-83.27276 38.60926, -83.29004 38.596...  \n",
      "26  POLYGON ((-88.07159 37.51104, -88.08791 37.476...  \n",
      "27  POLYGON ((-77.00793 38.96667, -76.91090 38.890...  \n",
      "28  POLYGON ((-75.70707 38.55759, -75.71071 38.649...  \n",
      "29  POLYGON ((-79.23166 38.48050, -79.27236 38.437...  \n",
      "30  MULTIPOLYGON (((-75.71071 38.64967, -75.70707 ...  \n",
      "31  POLYGON ((-102.04446 37.64147, -102.04201 37.3...  \n",
      "32  MULTIPOLYGON (((-86.51067 36.65507, -86.77054 ...  \n",
      "33  POLYGON ((-95.07193 37.00148, -95.40662 37.000...  \n",
      "34  MULTIPOLYGON (((-79.14406 36.54620, -79.21680 ...  \n",
      "35  POLYGON ((-89.10503 36.95392, -89.12965 36.866...  \n",
      "36  POLYGON ((-114.52063 33.02771, -114.55909 33.0...  \n",
      "37  POLYGON ((-94.43932 34.92915, -94.44596 34.735...  \n",
      "38  MULTIPOLYGON (((-83.98845 34.98915, -84.11815 ...  \n",
      "39  POLYGON ((-83.95461 35.45554, -84.01256 35.407...  \n",
      "40  MULTIPOLYGON (((-105.99889 31.39394, -106.2132...  \n",
      "41  POLYGON ((-109.04950 32.44204, -109.05135 32.7...  \n",
      "42  POLYGON ((-85.07007 31.98070, -85.11515 31.907...  \n",
      "43  POLYGON ((-88.45080 31.43562, -88.43456 31.120...  \n",
      "44  MULTIPOLYGON (((-85.13017 31.77885, -85.13156 ...  \n",
      "45  MULTIPOLYGON (((-81.75959 33.19538, -81.76988 ...  \n",
      "46  POLYGON ((-94.46169 34.19677, -94.45262 34.508...  \n",
      "47  MULTIPOLYGON (((-93.70752 30.23958, -93.69938 ...  \n",
      "48  MULTIPOLYGON (((-80.78566 28.78519, -80.76242 ...  \n",
      "49  MULTIPOLYGON (((-88.49753 48.17380, -88.62533 ...  \n",
      "50  MULTIPOLYGON (((-161.33379 58.73325, -161.3824...  \n"
     ]
    }
   ],
   "source": [
    "print(usa)"
   ]
  },
  {
   "cell_type": "code",
   "execution_count": 73,
   "metadata": {},
   "outputs": [
    {
     "data": {
      "image/svg+xml": [
       "<svg xmlns=\"http://www.w3.org/2000/svg\" xmlns:xlink=\"http://www.w3.org/1999/xlink\" width=\"100.0\" height=\"100.0\" viewBox=\"-77.13078522822143 38.77977740358122 0.22833792021265253 0.22222092020696493\" preserveAspectRatio=\"xMinYMin meet\"><g transform=\"matrix(1,0,0,-1,0,77.7817757273694)\"><path fill-rule=\"evenodd\" fill=\"#66cc99\" stroke=\"#555555\" stroke-width=\"0.004566758404253051\" opacity=\"0.6\" d=\"M -77.007930268107,38.96666736375528 L -76.91090426801665,38.89010036368397 L -77.04514726814168,38.7882343635891 L -77.03494626813217,38.81402836361312 L -77.04488826814143,38.82947736362751 L -77.04010426813697,38.838526363635935 L -77.03877726813573,38.862543363658304 L -77.06758626816257,38.88621236368035 L -77.07864926817287,38.91571136370783 L -77.12232826821355,38.93217136372316 L -77.04208826813883,38.99354136378031 L -77.007930268107,38.96666736375528 z\" /></g></svg>"
      ],
      "text/plain": [
       "<shapely.geometry.polygon.Polygon at 0x127e79ed0>"
      ]
     },
     "execution_count": 73,
     "metadata": {},
     "output_type": "execute_result"
    }
   ],
   "source": [
    "usa.loc[27, \"geometry\"]"
   ]
  },
  {
   "cell_type": "code",
   "execution_count": 75,
   "metadata": {},
   "outputs": [
    {
     "data": {
      "text/plain": [
       "<matplotlib.axes._subplots.AxesSubplot at 0x1288b40d0>"
      ]
     },
     "execution_count": 75,
     "metadata": {},
     "output_type": "execute_result"
    },
    {
     "data": {
      "image/png": "[encoded data removed]",
      "text/plain": [
       "<Figure size 432x288 with 1 Axes>"
      ]
     },
     "metadata": {
      "needs_background": "light"
     },
     "output_type": "display_data"
    }
   ],
   "source": [
    "usa[usa.STATE_ABBR == \"TX\"].plot()"
   ]
  },
  {
   "cell_type": "code",
   "execution_count": 77,
   "metadata": {},
   "outputs": [
    {
     "data": {
      "text/plain": [
       "<matplotlib.axes._subplots.AxesSubplot at 0x129729150>"
      ]
     },
     "execution_count": 77,
     "metadata": {},
     "output_type": "execute_result"
    },
    {
     "data": {
      "image/png": "[encoded data removed]",
      "text/plain": [
       "<Figure size 432x288 with 1 Axes>"
      ]
     },
     "metadata": {
      "needs_background": "light"
     },
     "output_type": "display_data"
    }
   ],
   "source": [
    "usa[usa.SUB_REGION == \"East North Central\"].plot()"
   ]
  },
  {
   "cell_type": "code",
   "execution_count": 79,
   "metadata": {},
   "outputs": [
    {
     "data": {
      "text/plain": [
       "<matplotlib.axes._subplots.AxesSubplot at 0x12802dc90>"
      ]
     },
     "execution_count": 79,
     "metadata": {},
     "output_type": "execute_result"
    },
    {
     "data": {
      "image/png": "[encoded data removed]",
      "text/plain": [
       "<Figure size 432x288 with 1 Axes>"
      ]
     },
     "metadata": {
      "needs_background": "light"
     },
     "output_type": "display_data"
    }
   ],
   "source": [
    "usa[usa.SUB_REGION == \"Mountain\"].plot()"
   ]
  },
  {
   "cell_type": "code",
   "execution_count": 101,
   "metadata": {},
   "outputs": [
    {
     "data": {
      "image/png": "[encoded data removed]",
      "text/plain": [
       "<Figure size 2160x2160 with 1 Axes>"
      ]
     },
     "metadata": {
      "needs_background": "light"
     },
     "output_type": "display_data"
    }
   ],
   "source": [
    "state_plotter(['RI', 'WA'])"
   ]
  },
  {
   "cell_type": "code",
   "execution_count": 100,
   "metadata": {},
   "outputs": [],
   "source": [
    "def state_plotter(states):\n",
    "    \n",
    "    fig, ax = plt.subplots(figsize=(30,30))\n",
    "    usa[1:50].plot(ax=ax,alpha = 0.3)\n",
    "    \n",
    "    for n in states:\n",
    "        usa[usa.STATE_ABBR == f'{n}'].plot(ax=ax, edgecolor='y', linewidth =2)"
   ]
  },
  {
   "cell_type": "code",
   "execution_count": 102,
   "metadata": {},
   "outputs": [
    {
     "ename": "SyntaxError",
     "evalue": "invalid syntax (<ipython-input-102-f188d5ac1197>, line 1)",
     "output_type": "error",
     "traceback": [
      "\u001b[0;36m  File \u001b[0;32m\"<ipython-input-102-f188d5ac1197>\"\u001b[0;36m, line \u001b[0;32m1\u001b[0m\n\u001b[0;31m    git init\u001b[0m\n\u001b[0m           ^\u001b[0m\n\u001b[0;31mSyntaxError\u001b[0m\u001b[0;31m:\u001b[0m invalid syntax\n"
     ]
    }
   ],
   "source": [
    "git init"
   ]
  },
  {
   "cell_type": "code",
   "execution_count": 103,
   "metadata": {},
   "outputs": [
    {
     "name": "stdout",
     "output_type": "stream",
     "text": [
      "Reinitialized existing Git repository in /Users/rubinbaskir/MEA_Mapper/.git/\n"
     ]
    }
   ],
   "source": [
    "!git init"
   ]
  },
  {
   "cell_type": "code",
   "execution_count": 104,
   "metadata": {},
   "outputs": [
    {
     "ename": "SyntaxError",
     "evalue": "invalid syntax (<ipython-input-104-d93c8dd246e3>, line 1)",
     "output_type": "error",
     "traceback": [
      "\u001b[0;36m  File \u001b[0;32m\"<ipython-input-104-d93c8dd246e3>\"\u001b[0;36m, line \u001b[0;32m1\u001b[0m\n\u001b[0;31m    git status\u001b[0m\n\u001b[0m             ^\u001b[0m\n\u001b[0;31mSyntaxError\u001b[0m\u001b[0;31m:\u001b[0m invalid syntax\n"
     ]
    }
   ],
   "source": [
    "git status"
   ]
  },
  {
   "cell_type": "code",
   "execution_count": 105,
   "metadata": {},
   "outputs": [
    {
     "name": "stdout",
     "output_type": "stream",
     "text": [
      "On branch master\n",
      "Your branch is up-to-date with 'origin/master'.\n",
      "\n",
      "Changes not staged for commit:\n",
      "  (use \"git add/rm <file>...\" to update what will be committed)\n",
      "  (use \"git checkout -- <file>...\" to discard changes in working directory)\n",
      "\n",
      "\t\u001b[31mmodified:   README.md\u001b[m\n",
      "\t\u001b[31mdeleted:    maketheUS.py\u001b[m\n",
      "\n",
      "Untracked files:\n",
      "  (use \"git add <file>...\" to include in what will be committed)\n",
      "\n",
      "\t\u001b[31m.ipynb_checkpoints/\u001b[m\n",
      "\t\u001b[31mUntitled.ipynb\u001b[m\n",
      "\t\u001b[31mUntitled1.ipynb\u001b[m\n",
      "\t\u001b[31m__pycache__/\u001b[m\n",
      "\t\u001b[31mstate_plotter.py\u001b[m\n",
      "\n",
      "no changes added to commit (use \"git add\" and/or \"git commit -a\")\n"
     ]
    }
   ],
   "source": [
    "!git status"
   ]
  },
  {
   "cell_type": "code",
   "execution_count": 107,
   "metadata": {},
   "outputs": [],
   "source": [
    "!git add .ipynb_checkpoints/"
   ]
  },
  {
   "cell_type": "code",
   "execution_count": 108,
   "metadata": {},
   "outputs": [
    {
     "name": "stdout",
     "output_type": "stream",
     "text": [
      "On branch master\n",
      "Your branch is up-to-date with 'origin/master'.\n",
      "\n",
      "Changes to be committed:\n",
      "  (use \"git reset HEAD <file>...\" to unstage)\n",
      "\n",
      "\t\u001b[32mnew file:   .ipynb_checkpoints/README-checkpoint.md\u001b[m\n",
      "\t\u001b[32mnew file:   .ipynb_checkpoints/Untitled-checkpoint.ipynb\u001b[m\n",
      "\t\u001b[32mnew file:   .ipynb_checkpoints/Untitled1-checkpoint.ipynb\u001b[m\n",
      "\t\u001b[32mnew file:   .ipynb_checkpoints/state_plotter-checkpoint.py\u001b[m\n",
      "\n",
      "Changes not staged for commit:\n",
      "  (use \"git add/rm <file>...\" to update what will be committed)\n",
      "  (use \"git checkout -- <file>...\" to discard changes in working directory)\n",
      "\n",
      "\t\u001b[31mdeleted:    .ipynb_checkpoints/Untitled-checkpoint.ipynb\u001b[m\n",
      "\t\u001b[31mdeleted:    .ipynb_checkpoints/Untitled1-checkpoint.ipynb\u001b[m\n",
      "\t\u001b[31mmodified:   README.md\u001b[m\n",
      "\t\u001b[31mdeleted:    maketheUS.py\u001b[m\n",
      "\n",
      "Untracked files:\n",
      "  (use \"git add <file>...\" to include in what will be committed)\n",
      "\n",
      "\t\u001b[31m.ipynb_checkpoints/notebook4geopandas-checkpoint.ipynb\u001b[m\n",
      "\t\u001b[31m.ipynb_checkpoints/working_notebook-checkpoint.ipynb\u001b[m\n",
      "\t\u001b[31m__pycache__/\u001b[m\n",
      "\t\u001b[31mnotebook4geopandas.ipynb\u001b[m\n",
      "\t\u001b[31mstate_plotter.py\u001b[m\n",
      "\t\u001b[31mworking_notebook.ipynb\u001b[m\n",
      "\n"
     ]
    }
   ],
   "source": [
    "!git status"
   ]
  },
  {
   "cell_type": "code",
   "execution_count": 109,
   "metadata": {},
   "outputs": [],
   "source": [
    "!git add .ipynb_checkpoints/notebook4geopandas-checkpoint.ipynb"
   ]
  },
  {
   "cell_type": "code",
   "execution_count": null,
   "metadata": {},
   "outputs": [],
   "source": [
    "!git add "
   ]
  }
 ],
 "metadata": {
  "kernelspec": {
   "display_name": "Python [conda env:TEST] *",
   "language": "python",
   "name": "conda-env-TEST-py"
  },
  "language_info": {
   "codemirror_mode": {
    "name": "ipython",
    "version": 3
   },
   "file_extension": ".py",
   "mimetype": "text/x-python",
   "name": "python",
   "nbconvert_exporter": "python",
   "pygments_lexer": "ipython3",
   "version": "3.7.5"
  }
 },
 "nbformat": 4,
 "nbformat_minor": 4
}
